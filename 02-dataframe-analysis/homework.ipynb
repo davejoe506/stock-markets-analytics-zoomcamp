{
 "cells": [
  {
   "cell_type": "markdown",
   "metadata": {},
   "source": [
    "## Module 2 Homework\n",
    "\n",
    "In this homework, we're going to combine data from various sources to process it in Pandas and generate additional fields.\n",
    "\n",
    "If not stated otherwise, please use the [Colab](https://github.com/DataTalksClub/stock-markets-analytics-zoomcamp/blob/main/02-dataframe-analysis/Module2_Colab_Working_with_the_data.ipynb) covered at the livestream to re-use the code snippets."
   ]
  },
  {
   "cell_type": "code",
   "execution_count": 1,
   "metadata": {},
   "outputs": [],
   "source": [
    "# IMPORTS\n",
    "import numpy as np\n",
    "import pandas as pd\n",
    "\n",
    "#Fin Data Sources\n",
    "import yfinance as yf\n",
    "import pandas_datareader as pdr\n",
    "\n",
    "#Data viz\n",
    "import plotly.graph_objs as go\n",
    "import plotly.express as px\n",
    "\n",
    "import time\n",
    "from datetime import date\n",
    "\n",
    "import requests"
   ]
  },
  {
   "cell_type": "markdown",
   "metadata": {},
   "source": [
    "### Question 1: IPO Filings Web Scraping and Data Processing\n",
    "\n",
    "**What's the total sum ($m) of 2023 filings that happened on Fridays?**\n",
    "\n",
    "Re-use the [Code Snippet 1] example to get the data from web for this endpoint: https://stockanalysis.com/ipos/filings/\n",
    "Convert the 'Filing Date' to datetime(), 'Shares Offered' to float64 (if '-' is encountered, populate with NaNs).\n",
    "Define a new field 'Avg_price' based on the \"Price Range\", which equals to NaN if no price is specified, to the price (if only one number is provided), or to the average of 2 prices (if a range is given).\n",
    "You may be inspired by the function `extract_numbers()` in [Code Snippet 4], or you can write your own function to \"parse\" a string.\n",
    "Define a column \"Shares_offered_value\", which equals to \"Shares Offered\" * \"Avg_price\" (when both columns are defined; otherwise, it's NaN)\n",
    "\n",
    "Find the total sum in $m (millions of USD, closest INTEGER number) for all filings during 2023, which happened on Fridays (`Date.dt.dayofweek()==4`). You should see 32 records in total, 25 of it is not null.\n",
    "\n",
    "(additional: you can read about [S-1 IPO filing](https://www.dfinsolutions.com/knowledge-hub/thought-leadership/knowledge-resources/what-s-1-ipo-filing) to understand the context)"
   ]
  },
  {
   "cell_type": "code",
   "execution_count": 2,
   "metadata": {},
   "outputs": [
    {
     "name": "stderr",
     "output_type": "stream",
     "text": [
      "C:\\Users\\davej\\AppData\\Local\\Temp\\ipykernel_32188\\2629617909.py:8: FutureWarning: Passing literal html to 'read_html' is deprecated and will be removed in a future version. To read from a literal string, wrap it in a 'StringIO' object.\n",
      "  ipo_dfs = pd.read_html(response.text)\n",
      "C:\\Users\\davej\\AppData\\Local\\Temp\\ipykernel_32188\\2629617909.py:51: SettingWithCopyWarning: \n",
      "A value is trying to be set on a copy of a slice from a DataFrame.\n",
      "Try using .loc[row_indexer,col_indexer] = value instead\n",
      "\n",
      "See the caveats in the documentation: https://pandas.pydata.org/pandas-docs/stable/user_guide/indexing.html#returning-a-view-versus-a-copy\n",
      "  ipo_filings_2023['Shares_offered_value $m'] = ipo_filings_2023['Shares_offered_value'] / 1000000\n"
     ]
    },
    {
     "data": {
      "text/plain": [
       "286.0"
      ]
     },
     "execution_count": 2,
     "metadata": {},
     "output_type": "execute_result"
    }
   ],
   "source": [
    "headers = {\n",
    "    'User-Agent': 'Mozilla/5.0 (Windows NT 10.0; Win64; x64) AppleWebKit/537.36 (KHTML, like Gecko) Chrome/58.0.3029.110 Safari/537.3',\n",
    "}\n",
    "\n",
    "url = \"https://stockanalysis.com/ipos/filings/\"\n",
    "response = requests.get(url, headers=headers)\n",
    "\n",
    "ipo_dfs = pd.read_html(response.text)\n",
    "\n",
    "ipo_filings = ipo_dfs[0]\n",
    "\n",
    "ipo_filings['Filing Date'] = pd.to_datetime(ipo_filings['Filing Date'], format='%b %d, %Y')\n",
    "\n",
    "ipo_filings['Shares Offered'] = pd.to_numeric(ipo_filings['Shares Offered'], errors='coerce')\n",
    "ipo_filings[ipo_filings['Shares Offered'].astype(str).str.find('-') >= 0]\n",
    "#no missing share values\n",
    "\n",
    "import re\n",
    "\n",
    "def extract_numbers(input_string):\n",
    "    if input_string.count(\"$\") == 2:\n",
    "        sub1 = \"$\"\n",
    "        sub2 = \" -\"\n",
    "        sub3 = \" $\"\n",
    "        \n",
    "        num1_s =str(re.escape(sub1))\n",
    "        num1_e =str(re.escape(sub2))\n",
    "        num2_s =str(re.escape(sub3))\n",
    "\n",
    "        num1_match = re.findall(num1_s+\"(\\d.+)\"+num1_e, input_string)[0]\n",
    "        num2_match = re.findall(num2_s+\"(\\d.+)$\", input_string)[0]\n",
    "\n",
    "        num1 = float(num1_match)\n",
    "        num2 = float(num2_match)\n",
    "\n",
    "        return (num1 + num2) / 2\n",
    "    \n",
    "    if input_string.count(\"$\") == 1:\n",
    "        return float(input_string.replace('$', ''))\n",
    "    \n",
    "    else:\n",
    "        return float(\"nan\")\n",
    "\n",
    "# define new field: \"Avg_price\"\n",
    "ipo_filings['Avg_price'] = ipo_filings['Price Range'].apply(lambda x:extract_numbers(x))\n",
    "\n",
    "ipo_filings[\"Shares_offered_value\"] = ipo_filings[\"Shares Offered\"] * ipo_filings[\"Avg_price\"]\n",
    "\n",
    "ipo_filings_2023 = ipo_filings.loc[(ipo_filings['Filing Date'].dt.year == 2023) & (ipo_filings['Filing Date'].dt.dayofweek == 4)]\n",
    "\n",
    "ipo_filings_2023['Shares_offered_value $m'] = ipo_filings_2023['Shares_offered_value'] / 1000000\n",
    "round(ipo_filings_2023['Shares_offered_value $m'].sum(),0)"
   ]
  },
  {
   "cell_type": "markdown",
   "metadata": {},
   "source": [
    "### Question 2:  IPOs \"Fixed days hold\" strategy\n",
    "\n",
    "\n",
    "**Find the optimal number of days X (between 1 and 30), where 75% quantile growth is the highest?**\n",
    "\n",
    "\n",
    "Reuse [Code Snippet 1] to retrieve the list of IPOs from 2023 and 2024 (from URLs: https://stockanalysis.com/ipos/2023/ and https://stockanalysis.com/ipos/2024/). \n",
    "Get all OHLCV daily prices for all stocks with an \"IPO date\" before March 1, 2024 (\"< 2024-03-01\") - 184 tickers (without 'RYZB'). Please remove 'RYZB', as it is no longer available on Yahoo Finance. \n",
    "\n",
    "Sometimes you may need to adjust the symbol name (e.g., 'IBAC' on stockanalysis.com -> 'IBACU' on Yahoo Finance) to locate OHLCV prices for all stocks.\n",
    "Some of the tickers like 'DYCQ' and 'LEGT' were on the market less than 30 days (11 and 21 days, respectively). Let's leave them in the dataset; it just means that you couldn't hold them for more days than they were listed.\n",
    "\n",
    "Let's assume you managed to buy a new stock (listed on IPO) on the first day at the [Adj Close] price]. Your strategy is to hold for exactly X full days (where X is between 1 and 30) and sell at the \"Adj. Close\" price in X days (e.g., if X=1, you sell on the next day).\n",
    "Find X, when the 75% quantile growth (among 185 investments) is the highest. \n",
    "\n",
    "HINTs:\n",
    "* You can generate 30 additional columns: growth_future_1d ... growth_future_30d, join that with the table of min_dates (first day when each stock has data on Yahoo Finance), and perform vector operations on the resulting dataset.\n",
    "* You can use the `DataFrame.describe()` function to get mean, min, max, 25-50-75% quantiles.\n",
    "\n",
    "\n",
    "Additional: \n",
    "* You can also ensure that the mean and 50th percentile (median) investment returns are negative for most X values, implying a wager for a \"lucky\" investor who might be in the top 25%.\n",
    "* What's your recommendation: Do you suggest pursuing this strategy for an optimal X?"
   ]
  },
  {
   "cell_type": "code",
   "execution_count": 3,
   "metadata": {},
   "outputs": [
    {
     "name": "stderr",
     "output_type": "stream",
     "text": [
      "C:\\Users\\davej\\AppData\\Local\\Temp\\ipykernel_32188\\3240166387.py:3: FutureWarning: Passing literal html to 'read_html' is deprecated and will be removed in a future version. To read from a literal string, wrap it in a 'StringIO' object.\n",
      "  ipo_2023_dfs = pd.read_html(response_2023.text)\n",
      "C:\\Users\\davej\\AppData\\Local\\Temp\\ipykernel_32188\\3240166387.py:8: FutureWarning: Passing literal html to 'read_html' is deprecated and will be removed in a future version. To read from a literal string, wrap it in a 'StringIO' object.\n",
      "  ipo_2024_dfs = pd.read_html(response_2024.text)\n"
     ]
    }
   ],
   "source": [
    "url_2023 = \"https://stockanalysis.com/ipos/2023/\"\n",
    "response_2023 = requests.get(url_2023, headers=headers)\n",
    "ipo_2023_dfs = pd.read_html(response_2023.text)\n",
    "ipos_2023 = ipo_2023_dfs[0]\n",
    "\n",
    "url_2024 = \"https://stockanalysis.com/ipos/2024/\"\n",
    "response_2024 = requests.get(url_2024, headers=headers)\n",
    "ipo_2024_dfs = pd.read_html(response_2024.text)\n",
    "ipos_2024 = ipo_2024_dfs[0]\n",
    "\n",
    "stacked_ipos_df = pd.concat([ipos_2024, ipos_2023], ignore_index=True)\n",
    "stacked_ipos_df['IPO Date'] = pd.to_datetime(stacked_ipos_df['IPO Date'], format='%b %d, %Y')\n",
    "stacked_ipos_df = stacked_ipos_df[stacked_ipos_df['IPO Date'] < \"2024-03-01\"]\n",
    "stacked_ipos_df = stacked_ipos_df[stacked_ipos_df['Symbol'] != \"RYZB\"]"
   ]
  },
  {
   "cell_type": "code",
   "execution_count": 4,
   "metadata": {},
   "outputs": [
    {
     "name": "stdout",
     "output_type": "stream",
     "text": [
      "0 SMXT\n"
     ]
    },
    {
     "name": "stderr",
     "output_type": "stream",
     "text": [
      "[*********************100%%**********************]  1 of 1 completed\n",
      "[*********************100%%**********************]  1 of 1 completed"
     ]
    },
    {
     "name": "stdout",
     "output_type": "stream",
     "text": [
      "1 VHAI\n"
     ]
    },
    {
     "name": "stderr",
     "output_type": "stream",
     "text": [
      "\n",
      "[*********************100%%**********************]  1 of 1 completed"
     ]
    },
    {
     "name": "stdout",
     "output_type": "stream",
     "text": [
      "2 DYCQ\n"
     ]
    },
    {
     "name": "stderr",
     "output_type": "stream",
     "text": [
      "\n",
      "[*********************100%%**********************]  1 of 1 completed"
     ]
    },
    {
     "name": "stdout",
     "output_type": "stream",
     "text": [
      "3 CHRO\n"
     ]
    },
    {
     "name": "stderr",
     "output_type": "stream",
     "text": [
      "\n",
      "[*********************100%%**********************]  1 of 1 completed"
     ]
    },
    {
     "name": "stdout",
     "output_type": "stream",
     "text": [
      "4 UMAC\n"
     ]
    },
    {
     "name": "stderr",
     "output_type": "stream",
     "text": [
      "\n",
      "[*********************100%%**********************]  1 of 1 completed"
     ]
    },
    {
     "name": "stdout",
     "output_type": "stream",
     "text": [
      "5 TBBB\n"
     ]
    },
    {
     "name": "stderr",
     "output_type": "stream",
     "text": [
      "\n",
      "[*********************100%%**********************]  1 of 1 completed"
     ]
    },
    {
     "name": "stdout",
     "output_type": "stream",
     "text": [
      "6 MGX\n"
     ]
    },
    {
     "name": "stderr",
     "output_type": "stream",
     "text": [
      "\n",
      "[*********************100%%**********************]  1 of 1 completed"
     ]
    },
    {
     "name": "stdout",
     "output_type": "stream",
     "text": [
      "7 HLXB\n"
     ]
    },
    {
     "name": "stderr",
     "output_type": "stream",
     "text": [
      "\n",
      "[*********************100%%**********************]  1 of 1 completed"
     ]
    },
    {
     "name": "stdout",
     "output_type": "stream",
     "text": [
      "8 TELO\n"
     ]
    },
    {
     "name": "stderr",
     "output_type": "stream",
     "text": [
      "\n",
      "[*********************100%%**********************]  1 of 1 completed"
     ]
    },
    {
     "name": "stdout",
     "output_type": "stream",
     "text": [
      "9 KYTX\n"
     ]
    },
    {
     "name": "stderr",
     "output_type": "stream",
     "text": [
      "\n",
      "[*********************100%%**********************]  1 of 1 completed"
     ]
    },
    {
     "name": "stdout",
     "output_type": "stream",
     "text": [
      "10 PMNT\n"
     ]
    },
    {
     "name": "stderr",
     "output_type": "stream",
     "text": [
      "\n",
      "[*********************100%%**********************]  1 of 1 completed"
     ]
    },
    {
     "name": "stdout",
     "output_type": "stream",
     "text": [
      "11 AHR\n"
     ]
    },
    {
     "name": "stderr",
     "output_type": "stream",
     "text": [
      "\n",
      "[*********************100%%**********************]  1 of 1 completed"
     ]
    },
    {
     "name": "stdout",
     "output_type": "stream",
     "text": [
      "12 LEGT\n"
     ]
    },
    {
     "name": "stderr",
     "output_type": "stream",
     "text": [
      "\n",
      "[*********************100%%**********************]  1 of 1 completed"
     ]
    },
    {
     "name": "stdout",
     "output_type": "stream",
     "text": [
      "13 ANRO\n"
     ]
    },
    {
     "name": "stderr",
     "output_type": "stream",
     "text": [
      "\n",
      "[*********************100%%**********************]  1 of 1 completed"
     ]
    },
    {
     "name": "stdout",
     "output_type": "stream",
     "text": [
      "14 GUTS\n"
     ]
    },
    {
     "name": "stderr",
     "output_type": "stream",
     "text": [
      "\n",
      "[*********************100%%**********************]  1 of 1 completed"
     ]
    },
    {
     "name": "stdout",
     "output_type": "stream",
     "text": [
      "15 AS\n"
     ]
    },
    {
     "name": "stderr",
     "output_type": "stream",
     "text": [
      "\n",
      "[*********************100%%**********************]  1 of 1 completed"
     ]
    },
    {
     "name": "stdout",
     "output_type": "stream",
     "text": [
      "16 FBLG\n"
     ]
    },
    {
     "name": "stderr",
     "output_type": "stream",
     "text": [
      "\n",
      "[*********************100%%**********************]  1 of 1 completed"
     ]
    },
    {
     "name": "stdout",
     "output_type": "stream",
     "text": [
      "17 BTSG\n"
     ]
    },
    {
     "name": "stderr",
     "output_type": "stream",
     "text": [
      "\n",
      "[*********************100%%**********************]  1 of 1 completed"
     ]
    },
    {
     "name": "stdout",
     "output_type": "stream",
     "text": [
      "18 AVBP\n"
     ]
    },
    {
     "name": "stderr",
     "output_type": "stream",
     "text": [
      "\n",
      "[*********************100%%**********************]  1 of 1 completed"
     ]
    },
    {
     "name": "stdout",
     "output_type": "stream",
     "text": [
      "19 HAO\n"
     ]
    },
    {
     "name": "stderr",
     "output_type": "stream",
     "text": [
      "\n",
      "[*********************100%%**********************]  1 of 1 completed"
     ]
    },
    {
     "name": "stdout",
     "output_type": "stream",
     "text": [
      "20 CGON\n"
     ]
    },
    {
     "name": "stderr",
     "output_type": "stream",
     "text": [
      "\n",
      "[*********************100%%**********************]  1 of 1 completed"
     ]
    },
    {
     "name": "stdout",
     "output_type": "stream",
     "text": [
      "21 YIBO\n"
     ]
    },
    {
     "name": "stderr",
     "output_type": "stream",
     "text": [
      "\n",
      "[*********************100%%**********************]  1 of 1 completed"
     ]
    },
    {
     "name": "stdout",
     "output_type": "stream",
     "text": [
      "22 SUGP\n"
     ]
    },
    {
     "name": "stderr",
     "output_type": "stream",
     "text": [
      "\n",
      "[*********************100%%**********************]  1 of 1 completed"
     ]
    },
    {
     "name": "stdout",
     "output_type": "stream",
     "text": [
      "23 JL\n"
     ]
    },
    {
     "name": "stderr",
     "output_type": "stream",
     "text": [
      "\n",
      "[*********************100%%**********************]  1 of 1 completed"
     ]
    },
    {
     "name": "stdout",
     "output_type": "stream",
     "text": [
      "24 KSPI\n"
     ]
    },
    {
     "name": "stderr",
     "output_type": "stream",
     "text": [
      "\n",
      "[*********************100%%**********************]  1 of 1 completed"
     ]
    },
    {
     "name": "stdout",
     "output_type": "stream",
     "text": [
      "25 JVSA\n"
     ]
    },
    {
     "name": "stderr",
     "output_type": "stream",
     "text": [
      "\n",
      "[*********************100%%**********************]  1 of 1 completed"
     ]
    },
    {
     "name": "stdout",
     "output_type": "stream",
     "text": [
      "26 PSBD\n"
     ]
    },
    {
     "name": "stderr",
     "output_type": "stream",
     "text": [
      "\n",
      "[*********************100%%**********************]  1 of 1 completed"
     ]
    },
    {
     "name": "stdout",
     "output_type": "stream",
     "text": [
      "27 CCTG\n"
     ]
    },
    {
     "name": "stderr",
     "output_type": "stream",
     "text": [
      "\n",
      "[*********************100%%**********************]  1 of 1 completed"
     ]
    },
    {
     "name": "stdout",
     "output_type": "stream",
     "text": [
      "28 SYNX\n"
     ]
    },
    {
     "name": "stderr",
     "output_type": "stream",
     "text": [
      "\n",
      "[*********************100%%**********************]  1 of 1 completed"
     ]
    },
    {
     "name": "stdout",
     "output_type": "stream",
     "text": [
      "29 SDHC\n"
     ]
    },
    {
     "name": "stderr",
     "output_type": "stream",
     "text": [
      "\n",
      "[*********************100%%**********************]  1 of 1 completed"
     ]
    },
    {
     "name": "stdout",
     "output_type": "stream",
     "text": [
      "30 ROMA\n"
     ]
    },
    {
     "name": "stderr",
     "output_type": "stream",
     "text": [
      "\n",
      "[*********************100%%**********************]  1 of 1 completed"
     ]
    },
    {
     "name": "stdout",
     "output_type": "stream",
     "text": [
      "31 IROH\n"
     ]
    },
    {
     "name": "stderr",
     "output_type": "stream",
     "text": [
      "\n",
      "[*********************100%%**********************]  1 of 1 completed"
     ]
    },
    {
     "name": "stdout",
     "output_type": "stream",
     "text": [
      "32 LGCB\n"
     ]
    },
    {
     "name": "stderr",
     "output_type": "stream",
     "text": [
      "\n",
      "[*********************100%%**********************]  1 of 1 completed"
     ]
    },
    {
     "name": "stdout",
     "output_type": "stream",
     "text": [
      "33 ZKH\n"
     ]
    },
    {
     "name": "stderr",
     "output_type": "stream",
     "text": [
      "\n",
      "[*********************100%%**********************]  1 of 1 completed"
     ]
    },
    {
     "name": "stdout",
     "output_type": "stream",
     "text": [
      "34 BAYA\n"
     ]
    },
    {
     "name": "stderr",
     "output_type": "stream",
     "text": [
      "\n",
      "[*********************100%%**********************]  1 of 1 completed"
     ]
    },
    {
     "name": "stdout",
     "output_type": "stream",
     "text": [
      "35 INHD\n"
     ]
    },
    {
     "name": "stderr",
     "output_type": "stream",
     "text": [
      "\n",
      "[*********************100%%**********************]  1 of 1 completed"
     ]
    },
    {
     "name": "stdout",
     "output_type": "stream",
     "text": [
      "36 AFJK\n"
     ]
    },
    {
     "name": "stderr",
     "output_type": "stream",
     "text": [
      "\n",
      "[*********************100%%**********************]  1 of 1 completed"
     ]
    },
    {
     "name": "stdout",
     "output_type": "stream",
     "text": [
      "37 GSIW\n"
     ]
    },
    {
     "name": "stderr",
     "output_type": "stream",
     "text": [
      "\n",
      "[*********************100%%**********************]  1 of 1 completed"
     ]
    },
    {
     "name": "stdout",
     "output_type": "stream",
     "text": [
      "38 FEBO\n"
     ]
    },
    {
     "name": "stderr",
     "output_type": "stream",
     "text": [
      "\n",
      "[*********************100%%**********************]  1 of 1 completed"
     ]
    },
    {
     "name": "stdout",
     "output_type": "stream",
     "text": [
      "39 CLBR\n"
     ]
    },
    {
     "name": "stderr",
     "output_type": "stream",
     "text": [
      "\n",
      "[*********************100%%**********************]  1 of 1 completed"
     ]
    },
    {
     "name": "stdout",
     "output_type": "stream",
     "text": [
      "40 ELAB\n"
     ]
    },
    {
     "name": "stderr",
     "output_type": "stream",
     "text": [
      "\n",
      "[*********************100%%**********************]  1 of 1 completed"
     ]
    },
    {
     "name": "stdout",
     "output_type": "stream",
     "text": [
      "41 RR\n"
     ]
    },
    {
     "name": "stderr",
     "output_type": "stream",
     "text": [
      "\n",
      "[*********************100%%**********************]  1 of 1 completed"
     ]
    },
    {
     "name": "stdout",
     "output_type": "stream",
     "text": [
      "42 DDC\n"
     ]
    },
    {
     "name": "stderr",
     "output_type": "stream",
     "text": [
      "\n",
      "[*********************100%%**********************]  1 of 1 completed"
     ]
    },
    {
     "name": "stdout",
     "output_type": "stream",
     "text": [
      "43 SHIM\n"
     ]
    },
    {
     "name": "stderr",
     "output_type": "stream",
     "text": [
      "\n",
      "[*********************100%%**********************]  1 of 1 completed"
     ]
    },
    {
     "name": "stdout",
     "output_type": "stream",
     "text": [
      "44 GLAC\n"
     ]
    },
    {
     "name": "stderr",
     "output_type": "stream",
     "text": [
      "\n",
      "[*********************100%%**********************]  1 of 1 completed"
     ]
    },
    {
     "name": "stdout",
     "output_type": "stream",
     "text": [
      "45 SGN\n"
     ]
    },
    {
     "name": "stderr",
     "output_type": "stream",
     "text": [
      "\n",
      "[*********************100%%**********************]  1 of 1 completed"
     ]
    },
    {
     "name": "stdout",
     "output_type": "stream",
     "text": [
      "46 HG\n"
     ]
    },
    {
     "name": "stderr",
     "output_type": "stream",
     "text": [
      "\n",
      "[*********************100%%**********************]  1 of 1 completed"
     ]
    },
    {
     "name": "stdout",
     "output_type": "stream",
     "text": [
      "47 CRGX\n"
     ]
    },
    {
     "name": "stderr",
     "output_type": "stream",
     "text": [
      "\n",
      "[*********************100%%**********************]  1 of 1 completed"
     ]
    },
    {
     "name": "stdout",
     "output_type": "stream",
     "text": [
      "48 ANSC\n"
     ]
    },
    {
     "name": "stderr",
     "output_type": "stream",
     "text": [
      "\n",
      "[*********************100%%**********************]  1 of 1 completed"
     ]
    },
    {
     "name": "stdout",
     "output_type": "stream",
     "text": [
      "49 AITR\n"
     ]
    },
    {
     "name": "stderr",
     "output_type": "stream",
     "text": [
      "\n",
      "[*********************100%%**********************]  1 of 1 completed"
     ]
    },
    {
     "name": "stdout",
     "output_type": "stream",
     "text": [
      "50 GVH\n"
     ]
    },
    {
     "name": "stderr",
     "output_type": "stream",
     "text": [
      "\n",
      "[*********************100%%**********************]  1 of 1 completed"
     ]
    },
    {
     "name": "stdout",
     "output_type": "stream",
     "text": [
      "51 LXEO\n"
     ]
    },
    {
     "name": "stderr",
     "output_type": "stream",
     "text": [
      "\n",
      "[*********************100%%**********************]  1 of 1 completed"
     ]
    },
    {
     "name": "stdout",
     "output_type": "stream",
     "text": [
      "52 PAPL\n"
     ]
    },
    {
     "name": "stderr",
     "output_type": "stream",
     "text": [
      "\n",
      "[*********************100%%**********************]  1 of 1 completed"
     ]
    },
    {
     "name": "stdout",
     "output_type": "stream",
     "text": [
      "53 ATGL\n"
     ]
    },
    {
     "name": "stderr",
     "output_type": "stream",
     "text": [
      "\n",
      "[*********************100%%**********************]  1 of 1 completed"
     ]
    },
    {
     "name": "stdout",
     "output_type": "stream",
     "text": [
      "54 MNR\n"
     ]
    },
    {
     "name": "stderr",
     "output_type": "stream",
     "text": [
      "\n",
      "[*********************100%%**********************]  1 of 1 completed"
     ]
    },
    {
     "name": "stdout",
     "output_type": "stream",
     "text": [
      "55 WBUY\n"
     ]
    },
    {
     "name": "stderr",
     "output_type": "stream",
     "text": [
      "\n",
      "[*********************100%%**********************]  1 of 1 completed"
     ]
    },
    {
     "name": "stdout",
     "output_type": "stream",
     "text": [
      "56 NCL\n"
     ]
    },
    {
     "name": "stderr",
     "output_type": "stream",
     "text": [
      "\n",
      "[*********************100%%**********************]  1 of 1 completed"
     ]
    },
    {
     "name": "stdout",
     "output_type": "stream",
     "text": [
      "57 BIRK\n"
     ]
    },
    {
     "name": "stderr",
     "output_type": "stream",
     "text": [
      "\n",
      "[*********************100%%**********************]  1 of 1 completed"
     ]
    },
    {
     "name": "stdout",
     "output_type": "stream",
     "text": [
      "58 GMM\n"
     ]
    },
    {
     "name": "stderr",
     "output_type": "stream",
     "text": [
      "\n",
      "[*********************100%%**********************]  1 of 1 completed"
     ]
    },
    {
     "name": "stdout",
     "output_type": "stream",
     "text": [
      "59 PMEC\n"
     ]
    },
    {
     "name": "stderr",
     "output_type": "stream",
     "text": [
      "\n",
      "[*********************100%%**********************]  1 of 1 completed"
     ]
    },
    {
     "name": "stdout",
     "output_type": "stream",
     "text": [
      "60 LRHC\n"
     ]
    },
    {
     "name": "stderr",
     "output_type": "stream",
     "text": [
      "\n",
      "[*********************100%%**********************]  1 of 1 completed"
     ]
    },
    {
     "name": "stdout",
     "output_type": "stream",
     "text": [
      "61 GPAK\n"
     ]
    },
    {
     "name": "stderr",
     "output_type": "stream",
     "text": [
      "\n",
      "[*********************100%%**********************]  1 of 1 completed"
     ]
    },
    {
     "name": "stdout",
     "output_type": "stream",
     "text": [
      "62 SPKL\n"
     ]
    },
    {
     "name": "stderr",
     "output_type": "stream",
     "text": [
      "\n",
      "[*********************100%%**********************]  1 of 1 completed"
     ]
    },
    {
     "name": "stdout",
     "output_type": "stream",
     "text": [
      "63 QETA\n"
     ]
    },
    {
     "name": "stderr",
     "output_type": "stream",
     "text": [
      "\n",
      "[*********************100%%**********************]  1 of 1 completed"
     ]
    },
    {
     "name": "stdout",
     "output_type": "stream",
     "text": [
      "64 MSS\n"
     ]
    },
    {
     "name": "stderr",
     "output_type": "stream",
     "text": [
      "\n",
      "[*********************100%%**********************]  1 of 1 completed"
     ]
    },
    {
     "name": "stdout",
     "output_type": "stream",
     "text": [
      "65 ANL\n"
     ]
    },
    {
     "name": "stderr",
     "output_type": "stream",
     "text": [
      "\n",
      "[*********************100%%**********************]  1 of 1 completed"
     ]
    },
    {
     "name": "stdout",
     "output_type": "stream",
     "text": [
      "66 SYRA\n"
     ]
    },
    {
     "name": "stderr",
     "output_type": "stream",
     "text": [
      "\n",
      "[*********************100%%**********************]  1 of 1 completed"
     ]
    },
    {
     "name": "stdout",
     "output_type": "stream",
     "text": [
      "67 VSME\n"
     ]
    },
    {
     "name": "stderr",
     "output_type": "stream",
     "text": [
      "\n",
      "[*********************100%%**********************]  1 of 1 completed"
     ]
    },
    {
     "name": "stdout",
     "output_type": "stream",
     "text": [
      "68 LRE\n"
     ]
    },
    {
     "name": "stderr",
     "output_type": "stream",
     "text": [
      "\n",
      "[*********************100%%**********************]  1 of 1 completed"
     ]
    },
    {
     "name": "stdout",
     "output_type": "stream",
     "text": [
      "69 TURB\n"
     ]
    },
    {
     "name": "stderr",
     "output_type": "stream",
     "text": [
      "\n",
      "[*********************100%%**********************]  1 of 1 completed"
     ]
    },
    {
     "name": "stdout",
     "output_type": "stream",
     "text": [
      "70 MDBH\n"
     ]
    },
    {
     "name": "stderr",
     "output_type": "stream",
     "text": [
      "\n",
      "[*********************100%%**********************]  1 of 1 completed"
     ]
    },
    {
     "name": "stdout",
     "output_type": "stream",
     "text": [
      "71 KVYO\n"
     ]
    },
    {
     "name": "stderr",
     "output_type": "stream",
     "text": [
      "\n",
      "[*********************100%%**********************]  1 of 1 completed"
     ]
    },
    {
     "name": "stdout",
     "output_type": "stream",
     "text": [
      "72 CART\n"
     ]
    },
    {
     "name": "stderr",
     "output_type": "stream",
     "text": [
      "\n",
      "[*********************100%%**********************]  1 of 1 completed"
     ]
    },
    {
     "name": "stdout",
     "output_type": "stream",
     "text": [
      "73 DTCK\n"
     ]
    },
    {
     "name": "stderr",
     "output_type": "stream",
     "text": [
      "\n",
      "[*********************100%%**********************]  1 of 1 completed"
     ]
    },
    {
     "name": "stdout",
     "output_type": "stream",
     "text": [
      "74 NMRA\n"
     ]
    },
    {
     "name": "stderr",
     "output_type": "stream",
     "text": [
      "\n",
      "[*********************100%%**********************]  1 of 1 completed"
     ]
    },
    {
     "name": "stdout",
     "output_type": "stream",
     "text": [
      "75 ARM\n"
     ]
    },
    {
     "name": "stderr",
     "output_type": "stream",
     "text": [
      "\n",
      "[*********************100%%**********************]  1 of 1 completed"
     ]
    },
    {
     "name": "stdout",
     "output_type": "stream",
     "text": [
      "76 SPPL\n"
     ]
    },
    {
     "name": "stderr",
     "output_type": "stream",
     "text": [
      "\n",
      "[*********************100%%**********************]  1 of 1 completed"
     ]
    },
    {
     "name": "stdout",
     "output_type": "stream",
     "text": [
      "77 NWGL\n"
     ]
    },
    {
     "name": "stderr",
     "output_type": "stream",
     "text": [
      "\n",
      "[*********************100%%**********************]  1 of 1 completed"
     ]
    },
    {
     "name": "stdout",
     "output_type": "stream",
     "text": [
      "78 SWIN\n"
     ]
    },
    {
     "name": "stderr",
     "output_type": "stream",
     "text": [
      "\n",
      "[*********************100%%**********************]  1 of 1 completed"
     ]
    },
    {
     "name": "stdout",
     "output_type": "stream",
     "text": [
      "79 IVP\n"
     ]
    },
    {
     "name": "stderr",
     "output_type": "stream",
     "text": [
      "\n",
      "[*********************100%%**********************]  1 of 1 completed"
     ]
    },
    {
     "name": "stdout",
     "output_type": "stream",
     "text": [
      "80 NNAG\n"
     ]
    },
    {
     "name": "stderr",
     "output_type": "stream",
     "text": [
      "\n",
      "[*********************100%%**********************]  1 of 1 completed"
     ]
    },
    {
     "name": "stdout",
     "output_type": "stream",
     "text": [
      "81 SRM\n"
     ]
    },
    {
     "name": "stderr",
     "output_type": "stream",
     "text": [
      "\n",
      "[*********************100%%**********************]  1 of 1 completed"
     ]
    },
    {
     "name": "stdout",
     "output_type": "stream",
     "text": [
      "82 SPGC\n"
     ]
    },
    {
     "name": "stderr",
     "output_type": "stream",
     "text": [
      "\n",
      "[*********************100%%**********************]  1 of 1 completed"
     ]
    },
    {
     "name": "stdout",
     "output_type": "stream",
     "text": [
      "83 LQR\n"
     ]
    },
    {
     "name": "stderr",
     "output_type": "stream",
     "text": [
      "\n",
      "[*********************100%%**********************]  1 of 1 completed"
     ]
    },
    {
     "name": "stdout",
     "output_type": "stream",
     "text": [
      "84 NRXS\n"
     ]
    },
    {
     "name": "stderr",
     "output_type": "stream",
     "text": [
      "\n",
      "[*********************100%%**********************]  1 of 1 completed"
     ]
    },
    {
     "name": "stdout",
     "output_type": "stream",
     "text": [
      "85 FTEL\n"
     ]
    },
    {
     "name": "stderr",
     "output_type": "stream",
     "text": [
      "\n",
      "[*********************100%%**********************]  1 of 1 completed"
     ]
    },
    {
     "name": "stdout",
     "output_type": "stream",
     "text": [
      "86 MIRA\n"
     ]
    },
    {
     "name": "stderr",
     "output_type": "stream",
     "text": [
      "\n",
      "[*********************100%%**********************]  1 of 1 completed"
     ]
    },
    {
     "name": "stdout",
     "output_type": "stream",
     "text": [
      "87 PXDT\n"
     ]
    },
    {
     "name": "stderr",
     "output_type": "stream",
     "text": [
      "\n",
      "[*********************100%%**********************]  1 of 1 completed"
     ]
    },
    {
     "name": "stdout",
     "output_type": "stream",
     "text": [
      "88 HRYU\n"
     ]
    },
    {
     "name": "stderr",
     "output_type": "stream",
     "text": [
      "\n",
      "[*********************100%%**********************]  1 of 1 completed"
     ]
    },
    {
     "name": "stdout",
     "output_type": "stream",
     "text": [
      "89 CTNT\n"
     ]
    },
    {
     "name": "stderr",
     "output_type": "stream",
     "text": [
      "\n",
      "[*********************100%%**********************]  1 of 1 completed"
     ]
    },
    {
     "name": "stdout",
     "output_type": "stream",
     "text": [
      "90 SRFM\n"
     ]
    },
    {
     "name": "stderr",
     "output_type": "stream",
     "text": [
      "\n",
      "[*********************100%%**********************]  1 of 1 completed"
     ]
    },
    {
     "name": "stdout",
     "output_type": "stream",
     "text": [
      "91 PRZO\n"
     ]
    },
    {
     "name": "stderr",
     "output_type": "stream",
     "text": [
      "\n",
      "[*********************100%%**********************]  1 of 1 completed"
     ]
    },
    {
     "name": "stdout",
     "output_type": "stream",
     "text": [
      "92 HYAC\n"
     ]
    },
    {
     "name": "stderr",
     "output_type": "stream",
     "text": [
      "\n",
      "[*********************100%%**********************]  1 of 1 completed"
     ]
    },
    {
     "name": "stdout",
     "output_type": "stream",
     "text": [
      "93 KVAC\n"
     ]
    },
    {
     "name": "stderr",
     "output_type": "stream",
     "text": [
      "\n",
      "[*********************100%%**********************]  1 of 1 completed"
     ]
    },
    {
     "name": "stdout",
     "output_type": "stream",
     "text": [
      "94 JNVR\n"
     ]
    },
    {
     "name": "stderr",
     "output_type": "stream",
     "text": [
      "\n",
      "[*********************100%%**********************]  1 of 1 completed"
     ]
    },
    {
     "name": "stdout",
     "output_type": "stream",
     "text": [
      "95 ELWS\n"
     ]
    },
    {
     "name": "stderr",
     "output_type": "stream",
     "text": [
      "\n",
      "[*********************100%%**********************]  1 of 1 completed"
     ]
    },
    {
     "name": "stdout",
     "output_type": "stream",
     "text": [
      "96 WRNT\n"
     ]
    },
    {
     "name": "stderr",
     "output_type": "stream",
     "text": [
      "\n",
      "[*********************100%%**********************]  1 of 1 completed"
     ]
    },
    {
     "name": "stdout",
     "output_type": "stream",
     "text": [
      "97 TSBX\n"
     ]
    },
    {
     "name": "stderr",
     "output_type": "stream",
     "text": [
      "\n",
      "[*********************100%%**********************]  1 of 1 completed"
     ]
    },
    {
     "name": "stdout",
     "output_type": "stream",
     "text": [
      "98 ODD\n"
     ]
    },
    {
     "name": "stderr",
     "output_type": "stream",
     "text": [
      "\n",
      "[*********************100%%**********************]  1 of 1 completed"
     ]
    },
    {
     "name": "stdout",
     "output_type": "stream",
     "text": [
      "99 APGE\n"
     ]
    },
    {
     "name": "stderr",
     "output_type": "stream",
     "text": [
      "\n",
      "[*********************100%%**********************]  1 of 1 completed"
     ]
    },
    {
     "name": "stdout",
     "output_type": "stream",
     "text": [
      "100 NETD\n"
     ]
    },
    {
     "name": "stderr",
     "output_type": "stream",
     "text": [
      "\n",
      "[*********************100%%**********************]  1 of 1 completed"
     ]
    },
    {
     "name": "stdout",
     "output_type": "stream",
     "text": [
      "101 SGMT\n"
     ]
    },
    {
     "name": "stderr",
     "output_type": "stream",
     "text": [
      "\n",
      "[*********************100%%**********************]  1 of 1 completed"
     ]
    },
    {
     "name": "stdout",
     "output_type": "stream",
     "text": [
      "102 BOWN\n"
     ]
    },
    {
     "name": "stderr",
     "output_type": "stream",
     "text": [
      "\n",
      "[*********************100%%**********************]  1 of 1 completed"
     ]
    },
    {
     "name": "stdout",
     "output_type": "stream",
     "text": [
      "103 SXTP\n"
     ]
    },
    {
     "name": "stderr",
     "output_type": "stream",
     "text": [
      "\n",
      "[*********************100%%**********************]  1 of 1 completed"
     ]
    },
    {
     "name": "stdout",
     "output_type": "stream",
     "text": [
      "104 PWM\n"
     ]
    },
    {
     "name": "stderr",
     "output_type": "stream",
     "text": [
      "\n",
      "[*********************100%%**********************]  1 of 1 completed"
     ]
    },
    {
     "name": "stdout",
     "output_type": "stream",
     "text": [
      "105 VTMX\n"
     ]
    },
    {
     "name": "stderr",
     "output_type": "stream",
     "text": [
      "\n",
      "[*********************100%%**********************]  1 of 1 completed"
     ]
    },
    {
     "name": "stdout",
     "output_type": "stream",
     "text": [
      "106 INTS\n"
     ]
    },
    {
     "name": "stderr",
     "output_type": "stream",
     "text": [
      "\n",
      "[*********************100%%**********************]  1 of 1 completed"
     ]
    },
    {
     "name": "stdout",
     "output_type": "stream",
     "text": [
      "107 SVV\n"
     ]
    },
    {
     "name": "stderr",
     "output_type": "stream",
     "text": [
      "\n",
      "[*********************100%%**********************]  1 of 1 completed"
     ]
    },
    {
     "name": "stdout",
     "output_type": "stream",
     "text": [
      "108 KGS\n"
     ]
    },
    {
     "name": "stderr",
     "output_type": "stream",
     "text": [
      "\n",
      "[*********************100%%**********************]  1 of 1 completed"
     ]
    },
    {
     "name": "stdout",
     "output_type": "stream",
     "text": [
      "109 FIHL\n"
     ]
    },
    {
     "name": "stderr",
     "output_type": "stream",
     "text": [
      "\n",
      "[*********************100%%**********************]  1 of 1 completed"
     ]
    },
    {
     "name": "stdout",
     "output_type": "stream",
     "text": [
      "110 GENK\n"
     ]
    },
    {
     "name": "stderr",
     "output_type": "stream",
     "text": [
      "\n",
      "[*********************100%%**********************]  1 of 1 completed"
     ]
    },
    {
     "name": "stdout",
     "output_type": "stream",
     "text": [
      "111 BUJA\n"
     ]
    },
    {
     "name": "stderr",
     "output_type": "stream",
     "text": [
      "\n",
      "[*********************100%%**********************]  1 of 1 completed"
     ]
    },
    {
     "name": "stdout",
     "output_type": "stream",
     "text": [
      "112 BOF\n"
     ]
    },
    {
     "name": "stderr",
     "output_type": "stream",
     "text": [
      "\n",
      "[*********************100%%**********************]  1 of 1 completed"
     ]
    },
    {
     "name": "stdout",
     "output_type": "stream",
     "text": [
      "113 AZTR\n"
     ]
    },
    {
     "name": "stderr",
     "output_type": "stream",
     "text": [
      "\n",
      "[*********************100%%**********************]  1 of 1 completed"
     ]
    },
    {
     "name": "stdout",
     "output_type": "stream",
     "text": [
      "114 CAVA\n"
     ]
    },
    {
     "name": "stderr",
     "output_type": "stream",
     "text": [
      "\n",
      "[*********************100%%**********************]  1 of 1 completed"
     ]
    },
    {
     "name": "stdout",
     "output_type": "stream",
     "text": [
      "115 ESHA\n"
     ]
    },
    {
     "name": "stderr",
     "output_type": "stream",
     "text": [
      "\n",
      "[*********************100%%**********************]  1 of 1 completed"
     ]
    },
    {
     "name": "stdout",
     "output_type": "stream",
     "text": [
      "116 ATMU\n"
     ]
    },
    {
     "name": "stderr",
     "output_type": "stream",
     "text": [
      "\n",
      "[*********************100%%**********************]  1 of 1 completed"
     ]
    },
    {
     "name": "stdout",
     "output_type": "stream",
     "text": [
      "117 ATS\n"
     ]
    },
    {
     "name": "stderr",
     "output_type": "stream",
     "text": [
      "\n",
      "[*********************100%%**********************]  1 of 1 completed"
     ]
    },
    {
     "name": "stdout",
     "output_type": "stream",
     "text": [
      "118 IPXX\n"
     ]
    },
    {
     "name": "stderr",
     "output_type": "stream",
     "text": [
      "\n",
      "[*********************100%%**********************]  1 of 1 completed"
     ]
    },
    {
     "name": "stdout",
     "output_type": "stream",
     "text": [
      "119 CWD\n"
     ]
    },
    {
     "name": "stderr",
     "output_type": "stream",
     "text": [
      "\n",
      "[*********************100%%**********************]  1 of 1 completed"
     ]
    },
    {
     "name": "stdout",
     "output_type": "stream",
     "text": [
      "120 SGE\n"
     ]
    },
    {
     "name": "stderr",
     "output_type": "stream",
     "text": [
      "\n",
      "[*********************100%%**********************]  1 of 1 completed"
     ]
    },
    {
     "name": "stdout",
     "output_type": "stream",
     "text": [
      "121 SLRN\n"
     ]
    },
    {
     "name": "stderr",
     "output_type": "stream",
     "text": [
      "\n",
      "[*********************100%%**********************]  1 of 1 completed"
     ]
    },
    {
     "name": "stdout",
     "output_type": "stream",
     "text": [
      "122 ALCY\n"
     ]
    },
    {
     "name": "stderr",
     "output_type": "stream",
     "text": [
      "\n",
      "[*********************100%%**********************]  1 of 1 completed"
     ]
    },
    {
     "name": "stdout",
     "output_type": "stream",
     "text": [
      "123 KVUE\n"
     ]
    },
    {
     "name": "stderr",
     "output_type": "stream",
     "text": [
      "\n",
      "[*********************100%%**********************]  1 of 1 completed"
     ]
    },
    {
     "name": "stdout",
     "output_type": "stream",
     "text": [
      "124 GODN\n"
     ]
    },
    {
     "name": "stderr",
     "output_type": "stream",
     "text": [
      "\n",
      "[*********************100%%**********************]  1 of 1 completed"
     ]
    },
    {
     "name": "stdout",
     "output_type": "stream",
     "text": [
      "125 TRNR\n"
     ]
    },
    {
     "name": "stderr",
     "output_type": "stream",
     "text": [
      "\n",
      "[*********************100%%**********************]  1 of 1 completed"
     ]
    },
    {
     "name": "stdout",
     "output_type": "stream",
     "text": [
      "126 AACT\n"
     ]
    },
    {
     "name": "stderr",
     "output_type": "stream",
     "text": [
      "\n",
      "[*********************100%%**********************]  1 of 1 completed"
     ]
    },
    {
     "name": "stdout",
     "output_type": "stream",
     "text": [
      "127 JYD\n"
     ]
    },
    {
     "name": "stderr",
     "output_type": "stream",
     "text": [
      "\n",
      "[*********************100%%**********************]  1 of 1 completed"
     ]
    },
    {
     "name": "stdout",
     "output_type": "stream",
     "text": [
      "128 USGO\n"
     ]
    },
    {
     "name": "stderr",
     "output_type": "stream",
     "text": [
      "\n",
      "[*********************100%%**********************]  1 of 1 completed"
     ]
    },
    {
     "name": "stdout",
     "output_type": "stream",
     "text": [
      "129 UCAR\n"
     ]
    },
    {
     "name": "stderr",
     "output_type": "stream",
     "text": [
      "\n",
      "[*********************100%%**********************]  1 of 1 completed"
     ]
    },
    {
     "name": "stdout",
     "output_type": "stream",
     "text": [
      "130 WLGS\n"
     ]
    },
    {
     "name": "stderr",
     "output_type": "stream",
     "text": [
      "\n",
      "[*********************100%%**********************]  1 of 1 completed"
     ]
    },
    {
     "name": "stdout",
     "output_type": "stream",
     "text": [
      "131 TPET\n"
     ]
    },
    {
     "name": "stderr",
     "output_type": "stream",
     "text": [
      "\n",
      "[*********************100%%**********************]  1 of 1 completed"
     ]
    },
    {
     "name": "stdout",
     "output_type": "stream",
     "text": [
      "132 TCJH\n"
     ]
    },
    {
     "name": "stderr",
     "output_type": "stream",
     "text": [
      "\n",
      "[*********************100%%**********************]  1 of 1 completed"
     ]
    },
    {
     "name": "stdout",
     "output_type": "stream",
     "text": [
      "133 GDTC\n"
     ]
    },
    {
     "name": "stderr",
     "output_type": "stream",
     "text": [
      "\n",
      "[*********************100%%**********************]  1 of 1 completed"
     ]
    },
    {
     "name": "stdout",
     "output_type": "stream",
     "text": [
      "134 VCIG\n"
     ]
    },
    {
     "name": "stderr",
     "output_type": "stream",
     "text": [
      "\n",
      "[*********************100%%**********************]  1 of 1 completed"
     ]
    },
    {
     "name": "stdout",
     "output_type": "stream",
     "text": [
      "135 GDHG\n"
     ]
    },
    {
     "name": "stderr",
     "output_type": "stream",
     "text": [
      "\n",
      "[*********************100%%**********************]  1 of 1 completed"
     ]
    },
    {
     "name": "stdout",
     "output_type": "stream",
     "text": [
      "136 ARBB\n"
     ]
    },
    {
     "name": "stderr",
     "output_type": "stream",
     "text": [
      "\n",
      "[*********************100%%**********************]  1 of 1 completed"
     ]
    },
    {
     "name": "stdout",
     "output_type": "stream",
     "text": [
      "137 ISPR\n"
     ]
    },
    {
     "name": "stderr",
     "output_type": "stream",
     "text": [
      "\n",
      "[*********************100%%**********************]  1 of 1 completed"
     ]
    },
    {
     "name": "stdout",
     "output_type": "stream",
     "text": [
      "138 MGIH\n"
     ]
    },
    {
     "name": "stderr",
     "output_type": "stream",
     "text": [
      "\n",
      "[*********************100%%**********************]  1 of 1 completed"
     ]
    },
    {
     "name": "stdout",
     "output_type": "stream",
     "text": [
      "139 MWG\n"
     ]
    },
    {
     "name": "stderr",
     "output_type": "stream",
     "text": [
      "\n",
      "[*********************100%%**********************]  1 of 1 completed"
     ]
    },
    {
     "name": "stdout",
     "output_type": "stream",
     "text": [
      "140 HSHP\n"
     ]
    },
    {
     "name": "stderr",
     "output_type": "stream",
     "text": [
      "\n",
      "[*********************100%%**********************]  1 of 1 completed"
     ]
    },
    {
     "name": "stdout",
     "output_type": "stream",
     "text": [
      "141 SFWL\n"
     ]
    },
    {
     "name": "stderr",
     "output_type": "stream",
     "text": [
      "\n",
      "[*********************100%%**********************]  1 of 1 completed"
     ]
    },
    {
     "name": "stdout",
     "output_type": "stream",
     "text": [
      "142 SYT\n"
     ]
    },
    {
     "name": "stderr",
     "output_type": "stream",
     "text": [
      "\n",
      "[*********************100%%**********************]  1 of 1 completed"
     ]
    },
    {
     "name": "stdout",
     "output_type": "stream",
     "text": [
      "143 HKIT\n"
     ]
    },
    {
     "name": "stderr",
     "output_type": "stream",
     "text": [
      "\n",
      "[*********************100%%**********************]  1 of 1 completed"
     ]
    },
    {
     "name": "stdout",
     "output_type": "stream",
     "text": [
      "144 CHSN\n"
     ]
    },
    {
     "name": "stderr",
     "output_type": "stream",
     "text": [
      "\n",
      "[*********************100%%**********************]  1 of 1 completed"
     ]
    },
    {
     "name": "stdout",
     "output_type": "stream",
     "text": [
      "145 TBMC\n"
     ]
    },
    {
     "name": "stderr",
     "output_type": "stream",
     "text": [
      "\n",
      "[*********************100%%**********************]  1 of 1 completed"
     ]
    },
    {
     "name": "stdout",
     "output_type": "stream",
     "text": [
      "146 HLP\n"
     ]
    },
    {
     "name": "stderr",
     "output_type": "stream",
     "text": [
      "\n",
      "[*********************100%%**********************]  1 of 1 completed"
     ]
    },
    {
     "name": "stdout",
     "output_type": "stream",
     "text": [
      "147 ZJYL\n"
     ]
    },
    {
     "name": "stderr",
     "output_type": "stream",
     "text": [
      "\n",
      "[*********************100%%**********************]  1 of 1 completed"
     ]
    },
    {
     "name": "stdout",
     "output_type": "stream",
     "text": [
      "148 TMTC\n"
     ]
    },
    {
     "name": "stderr",
     "output_type": "stream",
     "text": [
      "\n",
      "[*********************100%%**********************]  1 of 1 completed"
     ]
    },
    {
     "name": "stdout",
     "output_type": "stream",
     "text": [
      "149 YGFGF\n"
     ]
    },
    {
     "name": "stderr",
     "output_type": "stream",
     "text": [
      "\n",
      "[*********************100%%**********************]  1 of 1 completed"
     ]
    },
    {
     "name": "stdout",
     "output_type": "stream",
     "text": [
      "150 OAKU\n"
     ]
    },
    {
     "name": "stderr",
     "output_type": "stream",
     "text": [
      "\n",
      "[*********************100%%**********************]  1 of 1 completed"
     ]
    },
    {
     "name": "stdout",
     "output_type": "stream",
     "text": [
      "151 BANL\n"
     ]
    },
    {
     "name": "stderr",
     "output_type": "stream",
     "text": [
      "\n",
      "[*********************100%%**********************]  1 of 1 completed"
     ]
    },
    {
     "name": "stdout",
     "output_type": "stream",
     "text": [
      "152 OMH\n"
     ]
    },
    {
     "name": "stderr",
     "output_type": "stream",
     "text": [
      "\n",
      "[*********************100%%**********************]  1 of 1 completed"
     ]
    },
    {
     "name": "stdout",
     "output_type": "stream",
     "text": [
      "153 MGRX\n"
     ]
    },
    {
     "name": "stderr",
     "output_type": "stream",
     "text": [
      "\n",
      "[*********************100%%**********************]  1 of 1 completed"
     ]
    },
    {
     "name": "stdout",
     "output_type": "stream",
     "text": [
      "154 FORL\n"
     ]
    },
    {
     "name": "stderr",
     "output_type": "stream",
     "text": [
      "\n",
      "[*********************100%%**********************]  1 of 1 completed"
     ]
    },
    {
     "name": "stdout",
     "output_type": "stream",
     "text": [
      "155 ICG\n"
     ]
    },
    {
     "name": "stderr",
     "output_type": "stream",
     "text": [
      "\n",
      "[*********************100%%**********************]  1 of 1 completed"
     ]
    },
    {
     "name": "stdout",
     "output_type": "stream",
     "text": [
      "156 IZM\n"
     ]
    },
    {
     "name": "stderr",
     "output_type": "stream",
     "text": [
      "\n",
      "[*********************100%%**********************]  1 of 1 completed"
     ]
    },
    {
     "name": "stdout",
     "output_type": "stream",
     "text": [
      "157 AESI\n"
     ]
    },
    {
     "name": "stderr",
     "output_type": "stream",
     "text": [
      "\n",
      "[*********************100%%**********************]  1 of 1 completed"
     ]
    },
    {
     "name": "stdout",
     "output_type": "stream",
     "text": [
      "158 AIXI\n"
     ]
    },
    {
     "name": "stderr",
     "output_type": "stream",
     "text": [
      "\n",
      "[*********************100%%**********************]  1 of 1 completed"
     ]
    },
    {
     "name": "stdout",
     "output_type": "stream",
     "text": [
      "159 SBXC\n"
     ]
    },
    {
     "name": "stderr",
     "output_type": "stream",
     "text": [
      "\n",
      "[*********************100%%**********************]  1 of 1 completed"
     ]
    },
    {
     "name": "stdout",
     "output_type": "stream",
     "text": [
      "160 BMR\n"
     ]
    },
    {
     "name": "stderr",
     "output_type": "stream",
     "text": [
      "\n",
      "[*********************100%%**********************]  1 of 1 completed"
     ]
    },
    {
     "name": "stdout",
     "output_type": "stream",
     "text": [
      "161 DIST\n"
     ]
    },
    {
     "name": "stderr",
     "output_type": "stream",
     "text": [
      "\n",
      "[*********************100%%**********************]  1 of 1 completed"
     ]
    },
    {
     "name": "stdout",
     "output_type": "stream",
     "text": [
      "162 GXAI\n"
     ]
    },
    {
     "name": "stderr",
     "output_type": "stream",
     "text": [
      "\n",
      "[*********************100%%**********************]  1 of 1 completed"
     ]
    },
    {
     "name": "stdout",
     "output_type": "stream",
     "text": [
      "163 MARX\n"
     ]
    },
    {
     "name": "stderr",
     "output_type": "stream",
     "text": [
      "\n",
      "[*********************100%%**********************]  1 of 1 completed"
     ]
    },
    {
     "name": "stdout",
     "output_type": "stream",
     "text": [
      "164 BFRG\n"
     ]
    },
    {
     "name": "stderr",
     "output_type": "stream",
     "text": [
      "\n",
      "[*********************100%%**********************]  1 of 1 completed"
     ]
    },
    {
     "name": "stdout",
     "output_type": "stream",
     "text": [
      "165 ENLT\n"
     ]
    },
    {
     "name": "stderr",
     "output_type": "stream",
     "text": [
      "\n",
      "[*********************100%%**********************]  1 of 1 completed"
     ]
    },
    {
     "name": "stdout",
     "output_type": "stream",
     "text": [
      "166 MLYS\n"
     ]
    },
    {
     "name": "stderr",
     "output_type": "stream",
     "text": [
      "\n",
      "[*********************100%%**********************]  1 of 1 completed"
     ]
    },
    {
     "name": "stdout",
     "output_type": "stream",
     "text": [
      "167 HOVR\n"
     ]
    },
    {
     "name": "stderr",
     "output_type": "stream",
     "text": [
      "\n",
      "[*********************100%%**********************]  1 of 1 completed"
     ]
    },
    {
     "name": "stdout",
     "output_type": "stream",
     "text": [
      "168 BLAC\n"
     ]
    },
    {
     "name": "stderr",
     "output_type": "stream",
     "text": [
      "\n",
      "[*********************100%%**********************]  1 of 1 completed"
     ]
    },
    {
     "name": "stdout",
     "output_type": "stream",
     "text": [
      "169 NXT\n"
     ]
    },
    {
     "name": "stderr",
     "output_type": "stream",
     "text": [
      "\n",
      "[*********************100%%**********************]  1 of 1 completed"
     ]
    },
    {
     "name": "stdout",
     "output_type": "stream",
     "text": [
      "170 HSAI\n"
     ]
    },
    {
     "name": "stderr",
     "output_type": "stream",
     "text": [
      "\n",
      "[*********************100%%**********************]  1 of 1 completed"
     ]
    },
    {
     "name": "stdout",
     "output_type": "stream",
     "text": [
      "171 LSDI\n"
     ]
    },
    {
     "name": "stderr",
     "output_type": "stream",
     "text": [
      "\n",
      "[*********************100%%**********************]  1 of 1 completed"
     ]
    },
    {
     "name": "stdout",
     "output_type": "stream",
     "text": [
      "172 LICN\n"
     ]
    },
    {
     "name": "stderr",
     "output_type": "stream",
     "text": [
      "\n",
      "[*********************100%%**********************]  1 of 1 completed"
     ]
    },
    {
     "name": "stdout",
     "output_type": "stream",
     "text": [
      "173 GPCR\n"
     ]
    },
    {
     "name": "stderr",
     "output_type": "stream",
     "text": [
      "\n",
      "[*********************100%%**********************]  1 of 1 completed"
     ]
    },
    {
     "name": "stdout",
     "output_type": "stream",
     "text": [
      "174 ASST\n"
     ]
    },
    {
     "name": "stderr",
     "output_type": "stream",
     "text": [
      "\n",
      "[*********************100%%**********************]  1 of 1 completed"
     ]
    },
    {
     "name": "stdout",
     "output_type": "stream",
     "text": [
      "175 CETU\n"
     ]
    },
    {
     "name": "stderr",
     "output_type": "stream",
     "text": [
      "\n",
      "[*********************100%%**********************]  1 of 1 completed"
     ]
    },
    {
     "name": "stdout",
     "output_type": "stream",
     "text": [
      "176 TXO\n"
     ]
    },
    {
     "name": "stderr",
     "output_type": "stream",
     "text": [
      "\n",
      "[*********************100%%**********************]  1 of 1 completed"
     ]
    },
    {
     "name": "stdout",
     "output_type": "stream",
     "text": [
      "177 BREA\n"
     ]
    },
    {
     "name": "stderr",
     "output_type": "stream",
     "text": [
      "\n",
      "[*********************100%%**********************]  1 of 1 completed"
     ]
    },
    {
     "name": "stdout",
     "output_type": "stream",
     "text": [
      "178 GNLX\n"
     ]
    },
    {
     "name": "stderr",
     "output_type": "stream",
     "text": [
      "\n",
      "[*********************100%%**********************]  1 of 1 completed"
     ]
    },
    {
     "name": "stdout",
     "output_type": "stream",
     "text": [
      "179 QSG\n"
     ]
    },
    {
     "name": "stderr",
     "output_type": "stream",
     "text": [
      "\n",
      "[*********************100%%**********************]  1 of 1 completed"
     ]
    },
    {
     "name": "stdout",
     "output_type": "stream",
     "text": [
      "180 CVKD\n"
     ]
    },
    {
     "name": "stderr",
     "output_type": "stream",
     "text": [
      "\n",
      "[*********************100%%**********************]  1 of 1 completed"
     ]
    },
    {
     "name": "stdout",
     "output_type": "stream",
     "text": [
      "181 SKWD\n"
     ]
    },
    {
     "name": "stderr",
     "output_type": "stream",
     "text": [
      "\n",
      "[*********************100%%**********************]  1 of 1 completed"
     ]
    },
    {
     "name": "stdout",
     "output_type": "stream",
     "text": [
      "182 ISRL\n"
     ]
    },
    {
     "name": "stderr",
     "output_type": "stream",
     "text": [
      "\n",
      "[*********************100%%**********************]  1 of 1 completed"
     ]
    },
    {
     "name": "stdout",
     "output_type": "stream",
     "text": [
      "183 MGOL\n"
     ]
    },
    {
     "name": "stderr",
     "output_type": "stream",
     "text": [
      "\n"
     ]
    }
   ],
   "source": [
    "ALL_TICKERS = list(stacked_ipos_df[\"Symbol\"])\n",
    "#after some sort of merger/acquisiton, PTHR has become HOVR\n",
    "PTHR_index = ALL_TICKERS.index(\"PTHR\")\n",
    "ALL_TICKERS[PTHR_index] = \"HOVR\"\n",
    "stocks_df = pd.DataFrame({'A' : []})\n",
    "\n",
    "for i,ticker in enumerate(ALL_TICKERS):\n",
    "  print(i,ticker)\n",
    "\n",
    "  # Work with stock prices\n",
    "  historyPrices = yf.download(tickers = ticker,\n",
    "                     period = \"max\",\n",
    "                     interval = \"1d\")\n",
    "\n",
    "  # generate features for historical prices, and what we want to predict\n",
    "  historyPrices['Ticker'] = ticker\n",
    "  historyPrices['Year']= historyPrices.index.year\n",
    "  historyPrices['Month'] = historyPrices.index.month\n",
    "  historyPrices['Weekday'] = historyPrices.index.weekday\n",
    "  historyPrices['Date'] = historyPrices.index.date\n",
    "\n",
    "  # future returns\n",
    "  for i in reversed(range(-30,0)):\n",
    "    historyPrices['growth_future_'+str(i*-1)+'d'] = historyPrices['Adj Close'].shift(i) / historyPrices['Adj Close']\n",
    "\n",
    "  # Technical indicators\n",
    "  # SimpleMovingAverage 10 days and 20 days\n",
    "  #historyPrices['SMA10']= historyPrices['Close'].rolling(10).mean()\n",
    "  #historyPrices['SMA20']= historyPrices['Close'].rolling(20).mean()\n",
    "  #historyPrices['growing_moving_average'] = np.where(historyPrices['SMA10'] > historyPrices['SMA20'], 1, 0)\n",
    "  #historyPrices['high_minus_low_relative'] = (historyPrices.High - historyPrices.Low) / historyPrices['Adj Close']\n",
    "\n",
    "  # 30d rolling volatility : https://ycharts.com/glossary/terms/rolling_vol_30\n",
    "  #historyPrices['volatility'] =   historyPrices['Adj Close'].rolling(30).std() * np.sqrt(252)\n",
    "\n",
    "  # what we want to predict\n",
    "  #historyPrices['is_positive_growth_5d_future'] = np.where(historyPrices['growth_future_5d'] > 1, 1, 0)\n",
    "\n",
    "  # sleep 1 sec between downloads - not to overload the API server\n",
    "  time.sleep(1)\n",
    "\n",
    "\n",
    "  if stocks_df.empty:\n",
    "    stocks_df = historyPrices\n",
    "  else:\n",
    "    stocks_df = pd.concat([stocks_df, historyPrices], ignore_index=True)"
   ]
  },
  {
   "cell_type": "code",
   "execution_count": 5,
   "metadata": {},
   "outputs": [
    {
     "data": {
      "text/plain": [
       "'growth_future_30d'"
      ]
     },
     "execution_count": 5,
     "metadata": {},
     "output_type": "execute_result"
    }
   ],
   "source": [
    "COLUMNS = [k for k in stocks_df.keys() if k.find('growth')>=0] #or k=='Adj Close']\n",
    "stocks_df_growth = stocks_df[COLUMNS]\n",
    "stocks_df_growth_desc = stocks_df_growth.describe()\n",
    "stocks_df_growth_desc.loc['75%'].idxmax()"
   ]
  },
  {
   "cell_type": "markdown",
   "metadata": {},
   "source": [
    "### Question 3: Is Growth Concentrated in the Largest Stocks?\n",
    "\n",
    "**Get the share of days (percentage as int) when Large Stocks outperform (growth_7d - growth over 7 periods back) the Largest stocks?**\n",
    "\n",
    "\n",
    "Reuse [Code Snippet 5] to obtain OHLCV stats for 33 stocks \n",
    "for 10 full years of data (2014-01-01 to 2023-12-31). You'll need to download slightly more data (7 periods before 2014-01-01 to calculate the growth_7d for the first 6 days correctly):\n",
    "\n",
    "`US_STOCKS = ['MSFT', 'AAPL', 'GOOG', 'NVDA', 'AMZN', 'META', 'BRK-B', 'LLY', 'AVGO','V', 'JPM']`\n",
    "\n",
    "`EU_STOCKS = ['NVO','MC.PA', 'ASML', 'RMS.PA', 'OR.PA', 'SAP', 'ACN', 'TTE', 'SIE.DE','IDEXY','CDI.PA']`\n",
    "\n",
    "`INDIA_STOCKS = ['RELIANCE.NS','TCS.NS','HDB','BHARTIARTL.NS','IBN','SBIN.NS','LICI.NS','INFY','ITC.NS','HINDUNILVR.NS','LT.NS']`\n",
    "\n",
    "`LARGEST_STOCKS = US_STOCKS + EU_STOCKS + INDIA_STOCKS`\n",
    "<br/>\n",
    "\n",
    "Now let's add the top 12-22 stocks (as of end-April 2024):\n",
    "<br/>\n",
    "\n",
    "`NEW_US = ['TSLA','WMT','XOM','UNH','MA','PG','JNJ','MRK','HD','COST','ORCL']`\n",
    "\n",
    "`NEW_EU = ['PRX.AS','CDI.PA','AIR.PA','SU.PA','ETN','SNY','BUD','DTE.DE','ALV.DE','MDT','AI.PA','EL.PA']`\n",
    "\n",
    "`NEW_INDIA = ['BAJFINANCE.NS','MARUTI.NS','HCLTECH.NS','TATAMOTORS.NS','SUNPHARMA.NS','ONGC.NS','ADANIENT.NS','ADANIENT.NS','NTPC.NS','KOTAKBANK.NS','TITAN.NS']`\n",
    "\n",
    "`LARGE_STOCKS = NEW_EU + NEW_US + NEW_INDIA`\n",
    "\n",
    "You should be able to obtain stats for 33 LARGEST STOCKS and 32 LARGE STOCKS (from the actual stats on Yahoo Finance)\n",
    "\n",
    "Calculate  `growth_7d` for every stock and every day.\n",
    "Get the average daily `growth_7d` for the LARGEST_STOCKS group vs. the LARGE_STOCKS group.\n",
    "\n",
    "For example, for the first of data you should have:\n",
    "| Date   |      ticker_category      |  growth_7d |\n",
    "|----------|:-------------:|------:|\n",
    "| 2014-01-01 |  LARGE | 1.011684 |\n",
    "| 2014-01-01 |   LARGEST   |   1.011797 |\n",
    "\n",
    "On that day, the LARGEST group was growing faster than LARGE one (new stocks).\n",
    "\n",
    "Calculate the number of days when the LARGE GROUP (new smaller stocks) outperforms the LARGEST GROUP, divide it by the total number of trading days (which should be 2595 days), and convert it to a percentage (closest INTEGER value). For example, if you find that 1700 out of 2595 days meet this condition, it means that 1700/2595 = 0.655, or approximately 66% of days, the LARGE stocks were growing faster than the LARGEST ones. This suggests that you should consider extending your dataset with more stocks to seek higher growth.\n",
    "\n",
    "HINT: you can use pandas.pivot_table() to \"flatten\" the table (LARGE and LARGEST growth_7d as columns)"
   ]
  },
  {
   "cell_type": "code",
   "execution_count": 4,
   "metadata": {},
   "outputs": [],
   "source": [
    "# https://companiesmarketcap.com/usa/largest-companies-in-the-usa-by-market-cap/\n",
    "US_STOCKS = ['MSFT', 'AAPL', 'GOOG', 'NVDA', 'AMZN', 'META', 'BRK-B', 'LLY', 'AVGO','V', 'JPM']\n",
    "NEW_US = ['TSLA','WMT','XOM','UNH','MA','PG','JNJ','MRK','HD','COST','ORCL']\n",
    "\n",
    "# You're required to add EU_STOCKS and INDIA_STOCS\n",
    "# https://companiesmarketcap.com/european-union/largest-companies-in-the-eu-by-market-cap/\n",
    "EU_STOCKS = ['NVO','MC.PA', 'ASML', 'RMS.PA', 'OR.PA', 'SAP', 'ACN', 'TTE', 'SIE.DE','IDEXY','CDI.PA']\n",
    "NEW_EU = ['PRX.AS','AIR.PA','SU.PA','ETN','SNY','BUD','DTE.DE','ALV.DE','MDT','AI.PA','EL.PA']\n",
    "\n",
    "# https://companiesmarketcap.com/india/largest-companies-in-india-by-market-cap/\n",
    "INDIA_STOCKS = ['RELIANCE.NS','TCS.NS','HDB','BHARTIARTL.NS','IBN','SBIN.NS','LICI.NS','INFY','ITC.NS','HINDUNILVR.NS','LT.NS']\n",
    "NEW_INDIA = ['BAJFINANCE.NS','MARUTI.NS','HCLTECH.NS','TATAMOTORS.NS','SUNPHARMA.NS','ONGC.NS','ADANIENT.NS','ADANIENT.NS','NTPC.NS','KOTAKBANK.NS','TITAN.NS']\n",
    "\n",
    "LARGEST_STOCKS = US_STOCKS + EU_STOCKS + INDIA_STOCKS\n",
    "LARGE_STOCKS = NEW_EU + NEW_US + NEW_INDIA"
   ]
  },
  {
   "cell_type": "code",
   "execution_count": 5,
   "metadata": {},
   "outputs": [
    {
     "name": "stderr",
     "output_type": "stream",
     "text": [
      "[*********************100%%**********************]  1 of 1 completed"
     ]
    },
    {
     "name": "stdout",
     "output_type": "stream",
     "text": [
      "0 MSFT\n"
     ]
    },
    {
     "name": "stderr",
     "output_type": "stream",
     "text": [
      "\n"
     ]
    },
    {
     "name": "stdout",
     "output_type": "stream",
     "text": [
      "1 AAPL\n"
     ]
    },
    {
     "name": "stderr",
     "output_type": "stream",
     "text": [
      "[*********************100%%**********************]  1 of 1 completed\n",
      "[*********************100%%**********************]  1 of 1 completed"
     ]
    },
    {
     "name": "stdout",
     "output_type": "stream",
     "text": [
      "2 GOOG\n"
     ]
    },
    {
     "name": "stderr",
     "output_type": "stream",
     "text": [
      "\n"
     ]
    },
    {
     "name": "stdout",
     "output_type": "stream",
     "text": [
      "3 NVDA\n"
     ]
    },
    {
     "name": "stderr",
     "output_type": "stream",
     "text": [
      "[*********************100%%**********************]  1 of 1 completed\n"
     ]
    },
    {
     "name": "stdout",
     "output_type": "stream",
     "text": [
      "4 AMZN\n"
     ]
    },
    {
     "name": "stderr",
     "output_type": "stream",
     "text": [
      "[*********************100%%**********************]  1 of 1 completed\n",
      "[*********************100%%**********************]  1 of 1 completed"
     ]
    },
    {
     "name": "stdout",
     "output_type": "stream",
     "text": [
      "5 META\n"
     ]
    },
    {
     "name": "stderr",
     "output_type": "stream",
     "text": [
      "\n",
      "[*********************100%%**********************]  1 of 1 completed"
     ]
    },
    {
     "name": "stdout",
     "output_type": "stream",
     "text": [
      "6 BRK-B\n"
     ]
    },
    {
     "name": "stderr",
     "output_type": "stream",
     "text": [
      "\n"
     ]
    },
    {
     "name": "stdout",
     "output_type": "stream",
     "text": [
      "7 LLY\n"
     ]
    },
    {
     "name": "stderr",
     "output_type": "stream",
     "text": [
      "[*********************100%%**********************]  1 of 1 completed\n",
      "[*********************100%%**********************]  1 of 1 completed"
     ]
    },
    {
     "name": "stdout",
     "output_type": "stream",
     "text": [
      "8 AVGO\n"
     ]
    },
    {
     "name": "stderr",
     "output_type": "stream",
     "text": [
      "\n",
      "[*********************100%%**********************]  1 of 1 completed"
     ]
    },
    {
     "name": "stdout",
     "output_type": "stream",
     "text": [
      "9 V\n"
     ]
    },
    {
     "name": "stderr",
     "output_type": "stream",
     "text": [
      "\n",
      "[*********************100%%**********************]  1 of 1 completed"
     ]
    },
    {
     "name": "stdout",
     "output_type": "stream",
     "text": [
      "10 JPM\n"
     ]
    },
    {
     "name": "stderr",
     "output_type": "stream",
     "text": [
      "\n"
     ]
    },
    {
     "name": "stdout",
     "output_type": "stream",
     "text": [
      "11 NVO\n"
     ]
    },
    {
     "name": "stderr",
     "output_type": "stream",
     "text": [
      "[*********************100%%**********************]  1 of 1 completed\n",
      "[*********************100%%**********************]  1 of 1 completed"
     ]
    },
    {
     "name": "stdout",
     "output_type": "stream",
     "text": [
      "12 MC.PA\n"
     ]
    },
    {
     "name": "stderr",
     "output_type": "stream",
     "text": [
      "\n",
      "[*********************100%%**********************]  1 of 1 completed"
     ]
    },
    {
     "name": "stdout",
     "output_type": "stream",
     "text": [
      "13 ASML\n"
     ]
    },
    {
     "name": "stderr",
     "output_type": "stream",
     "text": [
      "\n"
     ]
    },
    {
     "name": "stdout",
     "output_type": "stream",
     "text": [
      "14 RMS.PA\n"
     ]
    },
    {
     "name": "stderr",
     "output_type": "stream",
     "text": [
      "[*********************100%%**********************]  1 of 1 completed\n"
     ]
    },
    {
     "name": "stdout",
     "output_type": "stream",
     "text": [
      "15 OR.PA\n"
     ]
    },
    {
     "name": "stderr",
     "output_type": "stream",
     "text": [
      "[*********************100%%**********************]  1 of 1 completed\n",
      "[*********************100%%**********************]  1 of 1 completed"
     ]
    },
    {
     "name": "stdout",
     "output_type": "stream",
     "text": [
      "16 SAP\n"
     ]
    },
    {
     "name": "stderr",
     "output_type": "stream",
     "text": [
      "\n"
     ]
    },
    {
     "name": "stdout",
     "output_type": "stream",
     "text": [
      "17 ACN\n"
     ]
    },
    {
     "name": "stderr",
     "output_type": "stream",
     "text": [
      "[*********************100%%**********************]  1 of 1 completed\n",
      "[*********************100%%**********************]  1 of 1 completed"
     ]
    },
    {
     "name": "stdout",
     "output_type": "stream",
     "text": [
      "18 TTE\n"
     ]
    },
    {
     "name": "stderr",
     "output_type": "stream",
     "text": [
      "\n"
     ]
    },
    {
     "name": "stdout",
     "output_type": "stream",
     "text": [
      "19 SIE.DE\n"
     ]
    },
    {
     "name": "stderr",
     "output_type": "stream",
     "text": [
      "[*********************100%%**********************]  1 of 1 completed\n",
      "[*********************100%%**********************]  1 of 1 completed"
     ]
    },
    {
     "name": "stdout",
     "output_type": "stream",
     "text": [
      "20 IDEXY\n"
     ]
    },
    {
     "name": "stderr",
     "output_type": "stream",
     "text": [
      "\n"
     ]
    },
    {
     "name": "stdout",
     "output_type": "stream",
     "text": [
      "21 CDI.PA\n"
     ]
    },
    {
     "name": "stderr",
     "output_type": "stream",
     "text": [
      "[*********************100%%**********************]  1 of 1 completed\n"
     ]
    },
    {
     "name": "stdout",
     "output_type": "stream",
     "text": [
      "22 RELIANCE.NS\n"
     ]
    },
    {
     "name": "stderr",
     "output_type": "stream",
     "text": [
      "[*********************100%%**********************]  1 of 1 completed\n"
     ]
    },
    {
     "name": "stdout",
     "output_type": "stream",
     "text": [
      "23 TCS.NS\n"
     ]
    },
    {
     "name": "stderr",
     "output_type": "stream",
     "text": [
      "[*********************100%%**********************]  1 of 1 completed\n"
     ]
    },
    {
     "name": "stdout",
     "output_type": "stream",
     "text": [
      "24 HDB\n"
     ]
    },
    {
     "name": "stderr",
     "output_type": "stream",
     "text": [
      "[*********************100%%**********************]  1 of 1 completed\n"
     ]
    },
    {
     "name": "stdout",
     "output_type": "stream",
     "text": [
      "25 BHARTIARTL.NS\n"
     ]
    },
    {
     "name": "stderr",
     "output_type": "stream",
     "text": [
      "[*********************100%%**********************]  1 of 1 completed\n"
     ]
    },
    {
     "name": "stdout",
     "output_type": "stream",
     "text": [
      "26 IBN\n"
     ]
    },
    {
     "name": "stderr",
     "output_type": "stream",
     "text": [
      "[*********************100%%**********************]  1 of 1 completed\n"
     ]
    },
    {
     "name": "stdout",
     "output_type": "stream",
     "text": [
      "27 SBIN.NS\n"
     ]
    },
    {
     "name": "stderr",
     "output_type": "stream",
     "text": [
      "[*********************100%%**********************]  1 of 1 completed\n",
      "[*********************100%%**********************]  1 of 1 completed"
     ]
    },
    {
     "name": "stdout",
     "output_type": "stream",
     "text": [
      "28 LICI.NS\n"
     ]
    },
    {
     "name": "stderr",
     "output_type": "stream",
     "text": [
      "\n"
     ]
    },
    {
     "name": "stdout",
     "output_type": "stream",
     "text": [
      "29 INFY\n"
     ]
    },
    {
     "name": "stderr",
     "output_type": "stream",
     "text": [
      "[*********************100%%**********************]  1 of 1 completed\n",
      "[*********************100%%**********************]  1 of 1 completed"
     ]
    },
    {
     "name": "stdout",
     "output_type": "stream",
     "text": [
      "30 ITC.NS\n"
     ]
    },
    {
     "name": "stderr",
     "output_type": "stream",
     "text": [
      "\n"
     ]
    },
    {
     "name": "stdout",
     "output_type": "stream",
     "text": [
      "31 HINDUNILVR.NS\n"
     ]
    },
    {
     "name": "stderr",
     "output_type": "stream",
     "text": [
      "[*********************100%%**********************]  1 of 1 completed\n",
      "[*********************100%%**********************]  1 of 1 completed"
     ]
    },
    {
     "name": "stdout",
     "output_type": "stream",
     "text": [
      "32 LT.NS\n"
     ]
    },
    {
     "name": "stderr",
     "output_type": "stream",
     "text": [
      "\n"
     ]
    }
   ],
   "source": [
    "largest_df = pd.DataFrame({'A' : []})\n",
    "\n",
    "for i,ticker in enumerate(LARGEST_STOCKS):\n",
    "  print(i,ticker)\n",
    "\n",
    "  # Work with stock prices\n",
    "  largestPrices = yf.download(tickers = ticker,\n",
    "                     start=\"2013-12-20\", \n",
    "                     end=\"2023-12-31\",\n",
    "                     interval = \"1d\")\n",
    "\n",
    "  # generate features for historical prices, and what we want to predict\n",
    "  largestPrices['Ticker'] = ticker\n",
    "  largestPrices['Year']= largestPrices.index.year\n",
    "  largestPrices['Month'] = largestPrices.index.month\n",
    "  largestPrices['Weekday'] = largestPrices.index.weekday\n",
    "  largestPrices['Date'] = largestPrices.index.date\n",
    "\n",
    "  # historical returns\n",
    "  largestPrices['growth_7d'] = largestPrices['Adj Close'] / largestPrices['Adj Close'].shift(7)\n",
    "\n",
    "  # sleep 1 sec between downloads - not to overload the API server\n",
    "  time.sleep(1)\n",
    "\n",
    "\n",
    "  if largest_df.empty:\n",
    "    largest_df = largestPrices\n",
    "  else:\n",
    "    largest_df = pd.concat([largest_df, largestPrices], ignore_index=True)"
   ]
  },
  {
   "cell_type": "code",
   "execution_count": 6,
   "metadata": {},
   "outputs": [
    {
     "name": "stderr",
     "output_type": "stream",
     "text": [
      "[*********************100%%**********************]  1 of 1 completed"
     ]
    },
    {
     "name": "stdout",
     "output_type": "stream",
     "text": [
      "0 PRX.AS\n"
     ]
    },
    {
     "name": "stderr",
     "output_type": "stream",
     "text": [
      "\n"
     ]
    },
    {
     "name": "stdout",
     "output_type": "stream",
     "text": [
      "1 AIR.PA\n"
     ]
    },
    {
     "name": "stderr",
     "output_type": "stream",
     "text": [
      "[*********************100%%**********************]  1 of 1 completed\n"
     ]
    },
    {
     "name": "stdout",
     "output_type": "stream",
     "text": [
      "2 SU.PA\n"
     ]
    },
    {
     "name": "stderr",
     "output_type": "stream",
     "text": [
      "[*********************100%%**********************]  1 of 1 completed\n"
     ]
    },
    {
     "name": "stdout",
     "output_type": "stream",
     "text": [
      "3 ETN\n"
     ]
    },
    {
     "name": "stderr",
     "output_type": "stream",
     "text": [
      "[*********************100%%**********************]  1 of 1 completed\n",
      "[*********************100%%**********************]  1 of 1 completed"
     ]
    },
    {
     "name": "stdout",
     "output_type": "stream",
     "text": [
      "4 SNY\n"
     ]
    },
    {
     "name": "stderr",
     "output_type": "stream",
     "text": [
      "\n",
      "[*********************100%%**********************]  1 of 1 completed"
     ]
    },
    {
     "name": "stdout",
     "output_type": "stream",
     "text": [
      "5 BUD\n"
     ]
    },
    {
     "name": "stderr",
     "output_type": "stream",
     "text": [
      "\n",
      "[*********************100%%**********************]  1 of 1 completed"
     ]
    },
    {
     "name": "stdout",
     "output_type": "stream",
     "text": [
      "6 DTE.DE\n"
     ]
    },
    {
     "name": "stderr",
     "output_type": "stream",
     "text": [
      "\n"
     ]
    },
    {
     "name": "stdout",
     "output_type": "stream",
     "text": [
      "7 ALV.DE\n"
     ]
    },
    {
     "name": "stderr",
     "output_type": "stream",
     "text": [
      "[*********************100%%**********************]  1 of 1 completed\n"
     ]
    },
    {
     "name": "stdout",
     "output_type": "stream",
     "text": [
      "8 MDT\n"
     ]
    },
    {
     "name": "stderr",
     "output_type": "stream",
     "text": [
      "[*********************100%%**********************]  1 of 1 completed\n"
     ]
    },
    {
     "name": "stdout",
     "output_type": "stream",
     "text": [
      "9 AI.PA\n"
     ]
    },
    {
     "name": "stderr",
     "output_type": "stream",
     "text": [
      "[*********************100%%**********************]  1 of 1 completed\n"
     ]
    },
    {
     "name": "stdout",
     "output_type": "stream",
     "text": [
      "10 EL.PA\n"
     ]
    },
    {
     "name": "stderr",
     "output_type": "stream",
     "text": [
      "[*********************100%%**********************]  1 of 1 completed\n",
      "[*********************100%%**********************]  1 of 1 completed"
     ]
    },
    {
     "name": "stdout",
     "output_type": "stream",
     "text": [
      "11 TSLA\n"
     ]
    },
    {
     "name": "stderr",
     "output_type": "stream",
     "text": [
      "\n",
      "[*********************100%%**********************]  1 of 1 completed"
     ]
    },
    {
     "name": "stdout",
     "output_type": "stream",
     "text": [
      "12 WMT\n"
     ]
    },
    {
     "name": "stderr",
     "output_type": "stream",
     "text": [
      "\n"
     ]
    },
    {
     "name": "stdout",
     "output_type": "stream",
     "text": [
      "13 XOM\n"
     ]
    },
    {
     "name": "stderr",
     "output_type": "stream",
     "text": [
      "[*********************100%%**********************]  1 of 1 completed\n",
      "[*********************100%%**********************]  1 of 1 completed"
     ]
    },
    {
     "name": "stdout",
     "output_type": "stream",
     "text": [
      "14 UNH\n"
     ]
    },
    {
     "name": "stderr",
     "output_type": "stream",
     "text": [
      "\n",
      "[*********************100%%**********************]  1 of 1 completed"
     ]
    },
    {
     "name": "stdout",
     "output_type": "stream",
     "text": [
      "15 MA\n"
     ]
    },
    {
     "name": "stderr",
     "output_type": "stream",
     "text": [
      "\n"
     ]
    },
    {
     "name": "stdout",
     "output_type": "stream",
     "text": [
      "16 PG\n"
     ]
    },
    {
     "name": "stderr",
     "output_type": "stream",
     "text": [
      "[*********************100%%**********************]  1 of 1 completed\n"
     ]
    },
    {
     "name": "stdout",
     "output_type": "stream",
     "text": [
      "17 JNJ\n"
     ]
    },
    {
     "name": "stderr",
     "output_type": "stream",
     "text": [
      "[*********************100%%**********************]  1 of 1 completed\n"
     ]
    },
    {
     "name": "stdout",
     "output_type": "stream",
     "text": [
      "18 MRK\n"
     ]
    },
    {
     "name": "stderr",
     "output_type": "stream",
     "text": [
      "[*********************100%%**********************]  1 of 1 completed\n"
     ]
    },
    {
     "name": "stdout",
     "output_type": "stream",
     "text": [
      "19 HD\n"
     ]
    },
    {
     "name": "stderr",
     "output_type": "stream",
     "text": [
      "[*********************100%%**********************]  1 of 1 completed\n",
      "[*********************100%%**********************]  1 of 1 completed"
     ]
    },
    {
     "name": "stdout",
     "output_type": "stream",
     "text": [
      "20 COST\n"
     ]
    },
    {
     "name": "stderr",
     "output_type": "stream",
     "text": [
      "\n"
     ]
    },
    {
     "name": "stdout",
     "output_type": "stream",
     "text": [
      "21 ORCL\n"
     ]
    },
    {
     "name": "stderr",
     "output_type": "stream",
     "text": [
      "[*********************100%%**********************]  1 of 1 completed\n",
      "[*********************100%%**********************]  1 of 1 completed"
     ]
    },
    {
     "name": "stdout",
     "output_type": "stream",
     "text": [
      "22 BAJFINANCE.NS\n"
     ]
    },
    {
     "name": "stderr",
     "output_type": "stream",
     "text": [
      "\n",
      "[*********************100%%**********************]  1 of 1 completed"
     ]
    },
    {
     "name": "stdout",
     "output_type": "stream",
     "text": [
      "23 MARUTI.NS\n"
     ]
    },
    {
     "name": "stderr",
     "output_type": "stream",
     "text": [
      "\n"
     ]
    },
    {
     "name": "stdout",
     "output_type": "stream",
     "text": [
      "24 HCLTECH.NS\n"
     ]
    },
    {
     "name": "stderr",
     "output_type": "stream",
     "text": [
      "[*********************100%%**********************]  1 of 1 completed\n"
     ]
    },
    {
     "name": "stdout",
     "output_type": "stream",
     "text": [
      "25 TATAMOTORS.NS\n"
     ]
    },
    {
     "name": "stderr",
     "output_type": "stream",
     "text": [
      "[*********************100%%**********************]  1 of 1 completed\n",
      "[*********************100%%**********************]  1 of 1 completed"
     ]
    },
    {
     "name": "stdout",
     "output_type": "stream",
     "text": [
      "26 SUNPHARMA.NS\n"
     ]
    },
    {
     "name": "stderr",
     "output_type": "stream",
     "text": [
      "\n"
     ]
    },
    {
     "name": "stdout",
     "output_type": "stream",
     "text": [
      "27 ONGC.NS\n"
     ]
    },
    {
     "name": "stderr",
     "output_type": "stream",
     "text": [
      "[*********************100%%**********************]  1 of 1 completed\n",
      "[*********************100%%**********************]  1 of 1 completed"
     ]
    },
    {
     "name": "stdout",
     "output_type": "stream",
     "text": [
      "28 ADANIENT.NS\n"
     ]
    },
    {
     "name": "stderr",
     "output_type": "stream",
     "text": [
      "\n",
      "[*********************100%%**********************]  1 of 1 completed"
     ]
    },
    {
     "name": "stdout",
     "output_type": "stream",
     "text": [
      "29 ADANIENT.NS\n"
     ]
    },
    {
     "name": "stderr",
     "output_type": "stream",
     "text": [
      "\n"
     ]
    },
    {
     "name": "stdout",
     "output_type": "stream",
     "text": [
      "30 NTPC.NS\n"
     ]
    },
    {
     "name": "stderr",
     "output_type": "stream",
     "text": [
      "[*********************100%%**********************]  1 of 1 completed\n"
     ]
    },
    {
     "name": "stdout",
     "output_type": "stream",
     "text": [
      "31 KOTAKBANK.NS\n"
     ]
    },
    {
     "name": "stderr",
     "output_type": "stream",
     "text": [
      "[*********************100%%**********************]  1 of 1 completed\n",
      "[*********************100%%**********************]  1 of 1 completed"
     ]
    },
    {
     "name": "stdout",
     "output_type": "stream",
     "text": [
      "32 TITAN.NS\n"
     ]
    },
    {
     "name": "stderr",
     "output_type": "stream",
     "text": [
      "\n"
     ]
    }
   ],
   "source": [
    "large_df = pd.DataFrame({'A' : []})\n",
    "\n",
    "for i,ticker in enumerate(LARGE_STOCKS):\n",
    "  print(i,ticker)\n",
    "\n",
    "  # Work with stock prices\n",
    "  largePrices = yf.download(tickers = ticker,\n",
    "                     start=\"2013-12-20\", \n",
    "                     end=\"2023-12-31\",\n",
    "                     interval = \"1d\")\n",
    "\n",
    "  # generate features for historical prices, and what we want to predict\n",
    "  largePrices['Ticker'] = ticker\n",
    "  largePrices['Year']= largePrices.index.year\n",
    "  largePrices['Month'] = largePrices.index.month\n",
    "  largePrices['Weekday'] = largePrices.index.weekday\n",
    "  largePrices['Date'] = largePrices.index.date\n",
    "\n",
    "  # historical returns\n",
    "  largePrices['growth_7d'] = largePrices['Adj Close'] / largePrices['Adj Close'].shift(7)\n",
    "\n",
    "  # sleep 1 sec between downloads - not to overload the API server\n",
    "  time.sleep(1)\n",
    "\n",
    "\n",
    "  if large_df.empty:\n",
    "    large_df = largePrices\n",
    "  else:\n",
    "    large_df = pd.concat([large_df, largePrices], ignore_index=True)"
   ]
  },
  {
   "cell_type": "code",
   "execution_count": 7,
   "metadata": {},
   "outputs": [
    {
     "name": "stderr",
     "output_type": "stream",
     "text": [
      "C:\\Users\\davej\\AppData\\Local\\Temp\\ipykernel_21960\\3869708112.py:16: FutureWarning: The provided callable <function sum at 0x00000235F74DA7A0> is currently using DataFrameGroupBy.sum. In a future version of pandas, the provided callable will be used directly. To keep current behavior pass the string \"sum\" instead.\n",
      "  ticker_cat_pivot = pd.pivot_table(ticker_cat_gb, values ='growth_7d', index =['Date'], columns =['ticker_category'], aggfunc = np.sum)\n"
     ]
    },
    {
     "data": {
      "text/plain": [
       "47"
      ]
     },
     "execution_count": 7,
     "metadata": {},
     "output_type": "execute_result"
    }
   ],
   "source": [
    "def get_ticker_category(ticker:str, largest_stocks_list, large_stocks_list):\n",
    "  if ticker in largest_stocks_list:\n",
    "    return 'LARGEST'\n",
    "  elif ticker in large_stocks_list:\n",
    "    return 'LARGE'\n",
    "  else:\n",
    "    return 'ERROR'\n",
    "  \n",
    "largest_df['ticker_category'] = largest_df['Ticker'].apply(lambda x:get_ticker_category(x, LARGEST_STOCKS, LARGE_STOCKS))\n",
    "large_df['ticker_category'] = large_df['Ticker'].apply(lambda x:get_ticker_category(x, LARGEST_STOCKS, LARGE_STOCKS))\n",
    "\n",
    "ticker_cat_df = pd.concat([largest_df, large_df], ignore_index=True)\n",
    "\n",
    "#  average growth 7days\n",
    "ticker_cat_gb = ticker_cat_df[ticker_cat_df['Year']>=2014].groupby(by=['Date','ticker_category'])['growth_7d'].mean().reset_index()\n",
    "ticker_cat_pivot = pd.pivot_table(ticker_cat_gb, values ='growth_7d', index =['Date'], columns =['ticker_category'], aggfunc = np.sum)\n",
    "\n",
    "# LARGE vs. LARGEST Growth: for binary models\n",
    "ticker_cat_pivot['large_gt_largest'] = np.where(ticker_cat_pivot['LARGE'] > ticker_cat_pivot['LARGEST'], 1, 0)\n",
    "int(round(ticker_cat_pivot['large_gt_largest'].value_counts() / len(ticker_cat_pivot) * 100, 0)[1])"
   ]
  },
  {
   "cell_type": "markdown",
   "metadata": {},
   "source": [
    "### Question 4: Trying Another Technical Indicators strategy\n",
    "\n",
    "**What's the total gross profit (in THOUSANDS of $) you'll get from trading on CCI (no fees assumption)?**\n",
    "\n",
    "First, run the entire Colab to obtain the full DataFrame of data (after [Code Snippet 9]), and truncate it to the last full 10 years of data (2014-01-01 to 2023-12-31).\n",
    "If you encounter any difficulties running the Colab - you can download it using this [link](https://drive.google.com/file/d/1m3Qisfs2XfWk6Sw_Uk5kHLWqwQ0q8SKb/view?usp=sharing).\n",
    "\n",
    "Let's assume you've learned about the awesome **CCI indicator** ([Commodity Channel Index](https://www.investopedia.com/terms/c/commoditychannelindex.asp)), and decided to use only it for your operations.\n",
    "\n",
    "You defined the \"defensive\" value of a high threshold of 200, and you trade only on Fridays (`Date.dt.dayofweek()==4`).\n",
    "\n",
    "That is, every time you see that CCI is >200 for any stock (out of those 33), you'll invest $1000 (each record when CCI>200) at Adj.Close price and hold it for 1 week (5 trading days) in order to sell at the Adj. Close price.\n",
    "\n",
    "What's the expected gross profit (no fees) that you get in THOUSANDS $ (closest integer value) over many operations in 10 years?\n",
    "One operation calculations: if you invested $1000 and received $1010 in 5 days - you add $10 to gross profit, if you received $980 - add -$20 to gross profit.\n",
    "You need to sum these results over all trades (460 times in 10 years).\n",
    "\n",
    "Additional:\n",
    "  * Add an approximate fees calculation over the 460 trades from this calculator https://www.degiro.ie/fees/calculator (Product:\"Shares, USA and Canada;\" Amount per transaction: \"1000 EUR\"; Transactions per year: \"460\")\n",
    "  * are you still profitable on those trades?"
   ]
  },
  {
   "cell_type": "code",
   "execution_count": 8,
   "metadata": {},
   "outputs": [
    {
     "name": "stderr",
     "output_type": "stream",
     "text": [
      "C:\\Users\\davej\\AppData\\Local\\Temp\\ipykernel_21960\\3584515191.py:8: FutureWarning: Passing literal html to 'read_html' is deprecated and will be removed in a future version. To read from a literal string, wrap it in a 'StringIO' object.\n",
      "  ipo_dfs = pd.read_html(response.text)\n",
      "C:\\Users\\davej\\AppData\\Local\\Temp\\ipykernel_21960\\3584515191.py:14: FutureWarning: Passing literal html to 'read_html' is deprecated and will be removed in a future version. To read from a literal string, wrap it in a 'StringIO' object.\n",
      "  ipo_dfs = pd.read_html(response.text)\n",
      "[*********************100%%**********************]  1 of 1 completed\n",
      "[*********************100%%**********************]  1 of 1 completed\n"
     ]
    },
    {
     "name": "stdout",
     "output_type": "stream",
     "text": [
      "Year = 2024; month= 5; day=8\n",
      "Period for indexes: 1954-05-08 to 2024-05-08 \n"
     ]
    },
    {
     "name": "stderr",
     "output_type": "stream",
     "text": [
      "[*********************100%%**********************]  1 of 1 completed\n",
      "[*********************100%%**********************]  1 of 1 completed\n",
      "[*********************100%%**********************]  1 of 1 completed\n",
      "[*********************100%%**********************]  1 of 1 completed\n",
      "[*********************100%%**********************]  1 of 1 completed\n",
      "[*********************100%%**********************]  1 of 1 completed\n",
      "[*********************100%%**********************]  1 of 1 completed\n",
      "[*********************100%%**********************]  1 of 1 completed\n",
      "[*********************100%%**********************]  1 of 1 completed\n"
     ]
    },
    {
     "name": "stdout",
     "output_type": "stream",
     "text": [
      "Download progress: 100.0%\n",
      "\n"
     ]
    },
    {
     "name": "stderr",
     "output_type": "stream",
     "text": [
      "C:\\Users\\davej\\AppData\\Local\\Temp\\ipykernel_21960\\3584515191.py:399: SettingWithCopyWarning: \n",
      "A value is trying to be set on a copy of a slice from a DataFrame.\n",
      "Try using .loc[row_indexer,col_indexer] = value instead\n",
      "\n",
      "See the caveats in the documentation: https://pandas.pydata.org/pandas-docs/stable/user_guide/indexing.html#returning-a-view-versus-a-copy\n",
      "  filtered_eurostat_euro_yield_df['maturity_in_months'] = filtered_eurostat_euro_yield_df.maturity.apply(lambda x:extract_numbers(x))\n",
      "C:\\Users\\davej\\AppData\\Local\\Temp\\ipykernel_21960\\3584515191.py:401: SettingWithCopyWarning: \n",
      "A value is trying to be set on a copy of a slice from a DataFrame.\n",
      "Try using .loc[row_indexer,col_indexer] = value instead\n",
      "\n",
      "See the caveats in the documentation: https://pandas.pydata.org/pandas-docs/stable/user_guide/indexing.html#returning-a-view-versus-a-copy\n",
      "  filtered_eurostat_euro_yield_df.loc[:,'maturity_in_years'] = filtered_eurostat_euro_yield_df.maturity_in_months/12.0\n"
     ]
    },
    {
     "name": "stdout",
     "output_type": "stream",
     "text": [
      "0 MSFT\n"
     ]
    },
    {
     "name": "stderr",
     "output_type": "stream",
     "text": [
      "[*********************100%%**********************]  1 of 1 completed\n"
     ]
    },
    {
     "name": "stdout",
     "output_type": "stream",
     "text": [
      "1 AAPL\n"
     ]
    },
    {
     "name": "stderr",
     "output_type": "stream",
     "text": [
      "[*********************100%%**********************]  1 of 1 completed\n",
      "[*********************100%%**********************]  1 of 1 completed"
     ]
    },
    {
     "name": "stdout",
     "output_type": "stream",
     "text": [
      "2 GOOG\n"
     ]
    },
    {
     "name": "stderr",
     "output_type": "stream",
     "text": [
      "\n"
     ]
    },
    {
     "name": "stdout",
     "output_type": "stream",
     "text": [
      "3 NVDA\n"
     ]
    },
    {
     "name": "stderr",
     "output_type": "stream",
     "text": [
      "[*********************100%%**********************]  1 of 1 completed\n"
     ]
    },
    {
     "name": "stdout",
     "output_type": "stream",
     "text": [
      "4 AMZN\n"
     ]
    },
    {
     "name": "stderr",
     "output_type": "stream",
     "text": [
      "[*********************100%%**********************]  1 of 1 completed\n",
      "[*********************100%%**********************]  1 of 1 completed"
     ]
    },
    {
     "name": "stdout",
     "output_type": "stream",
     "text": [
      "5 META\n"
     ]
    },
    {
     "name": "stderr",
     "output_type": "stream",
     "text": [
      "\n"
     ]
    },
    {
     "name": "stdout",
     "output_type": "stream",
     "text": [
      "6 BRK-B\n"
     ]
    },
    {
     "name": "stderr",
     "output_type": "stream",
     "text": [
      "[*********************100%%**********************]  1 of 1 completed\n"
     ]
    },
    {
     "name": "stdout",
     "output_type": "stream",
     "text": [
      "7 LLY\n"
     ]
    },
    {
     "name": "stderr",
     "output_type": "stream",
     "text": [
      "[*********************100%%**********************]  1 of 1 completed\n"
     ]
    },
    {
     "name": "stdout",
     "output_type": "stream",
     "text": [
      "8 AVGO\n"
     ]
    },
    {
     "name": "stderr",
     "output_type": "stream",
     "text": [
      "[*********************100%%**********************]  1 of 1 completed\n"
     ]
    },
    {
     "name": "stdout",
     "output_type": "stream",
     "text": [
      "9 V\n"
     ]
    },
    {
     "name": "stderr",
     "output_type": "stream",
     "text": [
      "[*********************100%%**********************]  1 of 1 completed\n"
     ]
    },
    {
     "name": "stdout",
     "output_type": "stream",
     "text": [
      "10 JPM\n"
     ]
    },
    {
     "name": "stderr",
     "output_type": "stream",
     "text": [
      "[*********************100%%**********************]  1 of 1 completed\n"
     ]
    },
    {
     "name": "stdout",
     "output_type": "stream",
     "text": [
      "11 NVO\n"
     ]
    },
    {
     "name": "stderr",
     "output_type": "stream",
     "text": [
      "[*********************100%%**********************]  1 of 1 completed\n"
     ]
    },
    {
     "name": "stdout",
     "output_type": "stream",
     "text": [
      "12 MC.PA\n"
     ]
    },
    {
     "name": "stderr",
     "output_type": "stream",
     "text": [
      "[*********************100%%**********************]  1 of 1 completed\n"
     ]
    },
    {
     "name": "stdout",
     "output_type": "stream",
     "text": [
      "13 ASML\n"
     ]
    },
    {
     "name": "stderr",
     "output_type": "stream",
     "text": [
      "[*********************100%%**********************]  1 of 1 completed\n"
     ]
    },
    {
     "name": "stdout",
     "output_type": "stream",
     "text": [
      "14 RMS.PA\n"
     ]
    },
    {
     "name": "stderr",
     "output_type": "stream",
     "text": [
      "[*********************100%%**********************]  1 of 1 completed\n"
     ]
    },
    {
     "name": "stdout",
     "output_type": "stream",
     "text": [
      "15 OR.PA\n"
     ]
    },
    {
     "name": "stderr",
     "output_type": "stream",
     "text": [
      "[*********************100%%**********************]  1 of 1 completed\n"
     ]
    },
    {
     "name": "stdout",
     "output_type": "stream",
     "text": [
      "16 SAP\n"
     ]
    },
    {
     "name": "stderr",
     "output_type": "stream",
     "text": [
      "[*********************100%%**********************]  1 of 1 completed\n"
     ]
    },
    {
     "name": "stdout",
     "output_type": "stream",
     "text": [
      "17 ACN\n"
     ]
    },
    {
     "name": "stderr",
     "output_type": "stream",
     "text": [
      "[*********************100%%**********************]  1 of 1 completed\n"
     ]
    },
    {
     "name": "stdout",
     "output_type": "stream",
     "text": [
      "18 TTE\n"
     ]
    },
    {
     "name": "stderr",
     "output_type": "stream",
     "text": [
      "[*********************100%%**********************]  1 of 1 completed\n"
     ]
    },
    {
     "name": "stdout",
     "output_type": "stream",
     "text": [
      "19 SIE.DE\n"
     ]
    },
    {
     "name": "stderr",
     "output_type": "stream",
     "text": [
      "[*********************100%%**********************]  1 of 1 completed\n"
     ]
    },
    {
     "name": "stdout",
     "output_type": "stream",
     "text": [
      "20 IDEXY\n"
     ]
    },
    {
     "name": "stderr",
     "output_type": "stream",
     "text": [
      "[*********************100%%**********************]  1 of 1 completed\n"
     ]
    },
    {
     "name": "stdout",
     "output_type": "stream",
     "text": [
      "21 CDI.PA\n"
     ]
    },
    {
     "name": "stderr",
     "output_type": "stream",
     "text": [
      "[*********************100%%**********************]  1 of 1 completed\n"
     ]
    },
    {
     "name": "stdout",
     "output_type": "stream",
     "text": [
      "22 RELIANCE.NS\n"
     ]
    },
    {
     "name": "stderr",
     "output_type": "stream",
     "text": [
      "[*********************100%%**********************]  1 of 1 completed\n"
     ]
    },
    {
     "name": "stdout",
     "output_type": "stream",
     "text": [
      "23 TCS.NS\n"
     ]
    },
    {
     "name": "stderr",
     "output_type": "stream",
     "text": [
      "[*********************100%%**********************]  1 of 1 completed\n"
     ]
    },
    {
     "name": "stdout",
     "output_type": "stream",
     "text": [
      "24 HDB\n"
     ]
    },
    {
     "name": "stderr",
     "output_type": "stream",
     "text": [
      "[*********************100%%**********************]  1 of 1 completed\n"
     ]
    },
    {
     "name": "stdout",
     "output_type": "stream",
     "text": [
      "25 BHARTIARTL.NS\n"
     ]
    },
    {
     "name": "stderr",
     "output_type": "stream",
     "text": [
      "[*********************100%%**********************]  1 of 1 completed\n"
     ]
    },
    {
     "name": "stdout",
     "output_type": "stream",
     "text": [
      "26 IBN\n"
     ]
    },
    {
     "name": "stderr",
     "output_type": "stream",
     "text": [
      "[*********************100%%**********************]  1 of 1 completed\n"
     ]
    },
    {
     "name": "stdout",
     "output_type": "stream",
     "text": [
      "27 SBIN.NS\n"
     ]
    },
    {
     "name": "stderr",
     "output_type": "stream",
     "text": [
      "[*********************100%%**********************]  1 of 1 completed\n",
      "[*********************100%%**********************]  1 of 1 completed"
     ]
    },
    {
     "name": "stdout",
     "output_type": "stream",
     "text": [
      "28 LICI.NS\n"
     ]
    },
    {
     "name": "stderr",
     "output_type": "stream",
     "text": [
      "\n"
     ]
    },
    {
     "name": "stdout",
     "output_type": "stream",
     "text": [
      "29 INFY\n"
     ]
    },
    {
     "name": "stderr",
     "output_type": "stream",
     "text": [
      "[*********************100%%**********************]  1 of 1 completed\n"
     ]
    },
    {
     "name": "stdout",
     "output_type": "stream",
     "text": [
      "30 ITC.NS\n"
     ]
    },
    {
     "name": "stderr",
     "output_type": "stream",
     "text": [
      "[*********************100%%**********************]  1 of 1 completed\n"
     ]
    },
    {
     "name": "stdout",
     "output_type": "stream",
     "text": [
      "31 HINDUNILVR.NS\n"
     ]
    },
    {
     "name": "stderr",
     "output_type": "stream",
     "text": [
      "[*********************100%%**********************]  1 of 1 completed\n"
     ]
    },
    {
     "name": "stdout",
     "output_type": "stream",
     "text": [
      "32 LT.NS\n"
     ]
    },
    {
     "name": "stderr",
     "output_type": "stream",
     "text": [
      "[*********************100%%**********************]  1 of 1 completed\n"
     ]
    },
    {
     "name": "stdout",
     "output_type": "stream",
     "text": [
      "1/33 Current ticker is MSFT\n",
      "2/33 Current ticker is AAPL\n",
      "3/33 Current ticker is GOOG\n",
      "4/33 Current ticker is NVDA\n",
      "5/33 Current ticker is AMZN\n",
      "6/33 Current ticker is META\n",
      "7/33 Current ticker is BRK-B\n",
      "8/33 Current ticker is LLY\n",
      "9/33 Current ticker is AVGO\n",
      "10/33 Current ticker is V\n",
      "11/33 Current ticker is JPM\n",
      "12/33 Current ticker is NVO\n",
      "13/33 Current ticker is MC.PA\n",
      "14/33 Current ticker is ASML\n",
      "15/33 Current ticker is RMS.PA\n",
      "16/33 Current ticker is OR.PA\n",
      "17/33 Current ticker is SAP\n",
      "18/33 Current ticker is ACN\n",
      "19/33 Current ticker is TTE\n",
      "20/33 Current ticker is SIE.DE\n",
      "21/33 Current ticker is IDEXY\n",
      "22/33 Current ticker is CDI.PA\n",
      "23/33 Current ticker is RELIANCE.NS\n",
      "24/33 Current ticker is TCS.NS\n",
      "25/33 Current ticker is HDB\n",
      "26/33 Current ticker is BHARTIARTL.NS\n",
      "27/33 Current ticker is IBN\n",
      "28/33 Current ticker is SBIN.NS\n",
      "29/33 Current ticker is LICI.NS\n",
      "30/33 Current ticker is INFY\n",
      "31/33 Current ticker is ITC.NS\n",
      "32/33 Current ticker is HINDUNILVR.NS\n",
      "33/33 Current ticker is LT.NS\n"
     ]
    },
    {
     "name": "stderr",
     "output_type": "stream",
     "text": [
      "C:\\Users\\davej\\AppData\\Local\\Temp\\ipykernel_21960\\3584515191.py:1184: FutureWarning: Series.fillna with 'method' is deprecated and will raise in a future version. Use obj.ffill() or obj.bfill() instead.\n",
      "  m7[field] = m7[field].fillna(method='ffill')\n",
      "C:\\Users\\davej\\AppData\\Local\\Temp\\ipykernel_21960\\3584515191.py:1199: FutureWarning: Series.fillna with 'method' is deprecated and will raise in a future version. Use obj.ffill() or obj.bfill() instead.\n",
      "  m8[field] = m8[field].fillna(method='ffill')\n",
      "C:\\Users\\davej\\AppData\\Local\\Temp\\ipykernel_21960\\3584515191.py:1274: FutureWarning: Series.fillna with 'method' is deprecated and will raise in a future version. Use obj.ffill() or obj.bfill() instead.\n",
      "  m16[field] = m16[field].fillna(method='ffill')\n"
     ]
    },
    {
     "name": "stdout",
     "output_type": "stream",
     "text": [
      "<class 'pandas.core.frame.DataFrame'>\n",
      "Index: 221155 entries, 0 to 5427\n",
      "Columns: 202 entries, Open to growth_btc_usd_365d\n",
      "dtypes: datetime64[ns](3), float64(128), int32(66), int64(3), object(2)\n",
      "memory usage: 286.8+ MB\n",
      "2024_05_08\n"
     ]
    }
   ],
   "source": [
    "headers = {\n",
    "    'User-Agent': 'Mozilla/5.0 (Windows NT 10.0; Win64; x64) AppleWebKit/537.36 (KHTML, like Gecko) Chrome/58.0.3029.110 Safari/537.3',\n",
    "}\n",
    "\n",
    "url = \"https://stockanalysis.com/ipos/2023/\"\n",
    "response = requests.get(url, headers=headers)\n",
    "\n",
    "ipo_dfs = pd.read_html(response.text)\n",
    "ipos_2023 = ipo_dfs[0]\n",
    "#ipos_2023.info()\n",
    "url = \"https://stockanalysis.com/ipos/2024/\"\n",
    "response = requests.get(url, headers=headers)\n",
    "\n",
    "ipo_dfs = pd.read_html(response.text)\n",
    "ipos_2024 = ipo_dfs[0]\n",
    "#ipos_2024.info()\n",
    "# \"stacking dataframes\"\n",
    "# pd.concat() is used to concatenate the DataFrames vertically.\n",
    "# The ignore_index=True parameter ensures that the resulting DataFrame has a new index,\n",
    "# ignoring the original indices of the input DataFrames.\n",
    "# The stacked_df now contains the concatenated DataFrame.\n",
    "stacked_ipos_df = pd.concat([ipos_2024, ipos_2023], ignore_index=True)\n",
    "#stacked_ipos_df.head(50)\n",
    "# Need to convert everything to a proper type (date, str, int, float, etc.)\n",
    "#stacked_ipos_df.info()\n",
    "# convert to datetime\n",
    "stacked_ipos_df['IPO Date'] = pd.to_datetime(stacked_ipos_df['IPO Date'], format='%b %d, %Y')\n",
    "# Problem --> not always the columns are filled\n",
    "missing_prices_df = stacked_ipos_df[stacked_ipos_df['IPO Price'].astype(str).str.find('-') >= 0]\n",
    "#missing_prices_df\n",
    "# it has some missing values --> use defensive errors='coerce' (if don't have time to crack into the data errors)\n",
    "#     : pd.to_numeric() function call, which will convert problematic values to NaN.\n",
    "#     otherwise you'll get a ValueError: Unable to parse string \"-\" at position 9\n",
    "stacked_ipos_df['IPO Price'] = pd.to_numeric(stacked_ipos_df['IPO Price'].str.replace('$', ''), errors='coerce')\n",
    "# not sure why, but need to call it again to transform 'object' to 'float64'\n",
    "stacked_ipos_df['IPO Price'] = pd.to_numeric(stacked_ipos_df['IPO Price'])\n",
    "# Convert \"Current\" column\n",
    "stacked_ipos_df['Current'] = pd.to_numeric(stacked_ipos_df['Current'].str.replace('$', ''), errors='coerce')\n",
    "\n",
    "# Convert 'Return' to numeric format (percentage)\n",
    "stacked_ipos_df['Return'] = pd.to_numeric(stacked_ipos_df['Return'].str.replace('%', ''), errors='coerce') / 100\n",
    "# Correctly applied transformations with 'defensive' techniques, but now not all are non-null\n",
    "#stacked_ipos_df.info()\n",
    "# simple way of checking NULLs\n",
    "# (you need to understand how vector operations work .isnull() and calls chaining .isnull().sum())\n",
    "stacked_ipos_df.isnull().sum()\n",
    "# Do you want to leave the record or not?\n",
    "stacked_ipos_df[stacked_ipos_df.Return.isnull()]\n",
    "# now you can operate with columns as a numeric type\n",
    "#stacked_ipos_df['IPO Price'].mean()\n",
    "# generate a new field -- SIMPLE calculation (no function needed)\n",
    "stacked_ipos_df['Price Increase'] = stacked_ipos_df['Current'] - stacked_ipos_df['IPO Price']\n",
    "#stacked_ipos_df.head(1)\n",
    "# Descriptive Analytics of a dataset\n",
    "#stacked_ipos_df.describe()\n",
    "# some visualisation: bar chart using Plotly Express\n",
    "import plotly.express as px\n",
    "\n",
    "# Truncate to the first day in the month - for Bar names\n",
    "stacked_ipos_df['Date_monthly'] = stacked_ipos_df['IPO Date'].dt.to_period('M').dt.to_timestamp()\n",
    "\n",
    "# Count the number of deals for each month and year\n",
    "monthly_deals = stacked_ipos_df['Date_monthly'].value_counts().reset_index().sort_values(by='Date_monthly')\n",
    "monthly_deals.columns = ['Date_monthly', 'Number of Deals']\n",
    "\n",
    "# Plotting the bar chart using Plotly Express\n",
    "#fig = px.bar(monthly_deals,\n",
    "#             x='Date_monthly',\n",
    "#             y='Number of Deals',\n",
    "#             labels={'Month_Year': 'Month and Year', 'Number of Deals': 'Number of Deals'},\n",
    "#             title='Number of IPO Deals per Month and Year',\n",
    "#             text='Number of Deals'\n",
    "#             )\n",
    "#fig.update_traces(textposition='outside', # Position the text outside the bars\n",
    "#                  textfont=dict(color='black',size=14), # Adjust the font size of the text\n",
    "#                  )\n",
    "#fig.update_layout(title_x=0.5) # Center the title\n",
    "\n",
    "#fig.show()\n",
    "# To be used for home assignment: 'You can notice a bump in the price after the IPO? And after that the price goes down\n",
    "# You're asked to design a simple strategy to buy and hold for X days (at 'Adj.Close' price, no fees)\n",
    "# Find an optimal X between 1 and 30, that delivers you a MAX mean return on ALL 2023 IPOs?\n",
    "# Write down the answer X (a number between 1 and 30)\n",
    "\n",
    "# What is the distribution of other returns 25-50-75% quantiles? Compare mean and median returns for 2023 (median may be more robust),\n",
    "  # are you losing money in 25% cases (if 25% quantile returns is < 0)\n",
    "  # Try the same X for all deals in 2024.  How the mean return in 2024 (out of sample data) is different from 2023 data?\n",
    "\n",
    "# REDDIT - recent IPO\n",
    "# https://finance.yahoo.com/quote/RDDT/\n",
    "reddit = yf.download(tickers = \"RDDT\",\n",
    "                     period = \"max\",\n",
    "                     interval = \"1d\")\n",
    "\n",
    "#reddit.tail()\n",
    "#reddit['Adj Close'].plot.line(title='Reddit\\'s (RDDT) price after the IPO')\n",
    "#2) OHLCV data transformations\n",
    "## 2.1 [Code Snippet 2] Time series for OHLCV\n",
    "nvo_df = yf.download(tickers = \"NVO\",\n",
    "                     period = \"max\",\n",
    "                     interval = \"1d\")\n",
    "# big plus of an API's data: good typing from the box!\n",
    "# notice DatetimeIndex - it is a recognised date\n",
    "#nvo_df.info()\n",
    "#nvo_df.tail()\n",
    "# filter on date (index)\n",
    "nvo_df_filtered_from_2020 = nvo_df[nvo_df.index>='2020-01-01']\n",
    "nvo_df_filtered_from_2024 = nvo_df[nvo_df.index>='2024-01-01']\n",
    "# Chaining: select one column, draw a plot, of a type line\n",
    "#nvo_df_filtered_from_2020['Adj Close'].plot.line(title='Novo Nordisk A/S (NVO) price daily')\n",
    "# generating new fields (using DateTime features):\n",
    "\n",
    "nvo_df['Ticker'] = 'NVO'\n",
    "nvo_df['Year']= nvo_df.index.year\n",
    "nvo_df['Month'] = nvo_df.index.month\n",
    "nvo_df['Weekday'] = nvo_df.index.weekday\n",
    "nvo_df['Date'] = nvo_df.index.date # to be used in joins\n",
    "#nvo_df.tail()\n",
    "# shift ALL values (on x periods forward (+1) and backward (-1))\n",
    "# equivalent of joining with a dataframe of the same vector, but with shifted date index\n",
    "nvo_df['adj_close_minus_1'] = nvo_df['Adj Close'].shift(-1)\n",
    "nvo_df['adj_close_plus_1'] = nvo_df['Adj Close'].shift(1)\n",
    "\n",
    "#nvo_df.tail()\n",
    "# historical growth\n",
    "nvo_df['growth_1d'] = nvo_df['Adj Close'] / nvo_df['Adj Close'].shift(1)           # nvo_df['adj_close_plus_1']\n",
    "nvo_df['growth_30d'] = nvo_df['Adj Close'] / nvo_df['Adj Close'].shift(30)\n",
    "\n",
    "# FUTURE Growth : for regression models\n",
    "nvo_df['growth_future_1d'] = nvo_df['Adj Close'].shift(-1) / nvo_df['Adj Close']   # nvo_df['adj_close_minus_1']\n",
    "\n",
    "# FUTURE Growth: for binary models\n",
    "nvo_df['is_positive_growth_1d_future'] = np.where(nvo_df['growth_future_1d'] > 1, 1, 0)\n",
    "# normally the growth in 1 day is +-10%, while a lot of it is around 0% (around 1.)\n",
    "#plt.title('Distribution of Daily Growth Rates for ticker =\"NVO\"')\n",
    "#nvo_df.growth_1d.hist(bins=200)\n",
    "#plt.show()\n",
    "# you can see that the growth is can be much wider in 30 days (+- 30%)\n",
    "#plt.title('Distribution of 2-days Growth Rates for ticker = \"NVO\"')\n",
    "\n",
    "#nvo_df.growth_30d.hist(bins=200)\n",
    "# for modeling: we use growth_1d, growth_2d as feature\n",
    "COLUMNS = [k for k in nvo_df.keys() if k.find('growth')>=0 or k=='Adj Close']\n",
    "nvo_df[COLUMNS].tail()\n",
    "# Calculate the distribution of future growth\n",
    "nvo_df.is_positive_growth_1d_future.value_counts() / len(nvo_df)\n",
    "# Calculate value counts\n",
    "value_counts = nvo_df['is_positive_growth_1d_future'].value_counts()\n",
    "\n",
    "# Calculate percentage of each category\n",
    "percentage = (value_counts / len(nvo_df)) * 100\n",
    "\n",
    "# Plot as a bar chart\n",
    "#plt.bar(percentage.index.astype(str), percentage)\n",
    "#plt.xlabel('Category')\n",
    "#plt.ylabel('Percentage')\n",
    "#plt.title('Percentage of Categories for Positive Future Growth for ticker=\"NVO\"')\n",
    "\n",
    "# Add percentage values on top of each bar\n",
    "#for i, value in enumerate(percentage):\n",
    "#    plt.text(i, value + 0, f'{value:.1f}%', ha='center')\n",
    "\n",
    "#plt.show()\n",
    "## 2.2) [Code Snippet 6] Candlestick chart for OHLCV\n",
    "# Candlestick charts : https://plotly.com/python/candlestick-charts/\n",
    "import plotly.graph_objects as go\n",
    "\n",
    "#fig = go.Figure(data=[go.Candlestick(x=nvo_df_filtered_from_2020.index,\n",
    "#                open=nvo_df_filtered_from_2020.Open,\n",
    "#                high=nvo_df_filtered_from_2020.High,\n",
    "#                low=nvo_df_filtered_from_2020.Low,\n",
    "#                close=nvo_df_filtered_from_2020.Close)\n",
    "#               ])\n",
    "\n",
    "#fig.update_layout(\n",
    "#    title=\"NVO's daily candlestick chart from 2020\",\n",
    "#    title_x=0.5,  # Set title x-position to center\n",
    "#    xaxis_rangeslider_visible=True\n",
    "#    )\n",
    "\n",
    "#fig.show()\n",
    "# 3) Macro Indicators\n",
    "## 3.0) Previous indicators from module 1\n",
    "end = date.today()\n",
    "print(f'Year = {end.year}; month= {end.month}; day={end.day}')\n",
    "\n",
    "start = date(year=end.year-70, month=end.month, day=end.day)\n",
    "print(f'Period for indexes: {start} to {end} ')\n",
    "# reuse code for earlier covered indicators\n",
    "dax_daily = yf.download(tickers = \"^GDAXI\",\n",
    "                     period = \"max\",\n",
    "                     interval = \"1d\")\n",
    "for i in [1,3,7,30,90,365]:\n",
    "  #DEBUG: dax_daily['Adj Close_sh_m_'+str(i)+'d'] = dax_daily['Adj Close'].shift(i)\n",
    "  dax_daily['growth_dax_'+str(i)+'d'] = dax_daily['Adj Close'] / dax_daily['Adj Close'].shift(i)\n",
    "#dax_daily.head()\n",
    "#dax_daily.tail(2)\n",
    "GROWTH_KEYS = [k for k in dax_daily.keys() if k.startswith('growth')]\n",
    "dax_daily_to_merge = dax_daily[GROWTH_KEYS]\n",
    "#dax_daily_to_merge.tail(1)\n",
    "def get_growth_df(df:pd.DataFrame, prefix:str)->pd.DataFrame:\n",
    "  for i in [1,3,7,30,90,365]:\n",
    "    df['growth_'+prefix+'_'+str(i)+'d'] = df['Adj Close'] / df['Adj Close'].shift(i)\n",
    "    GROWTH_KEYS = [k for k in df.keys() if k.startswith('growth')]\n",
    "  return df[GROWTH_KEYS]\n",
    "# https://finance.yahoo.com/quote/%5EGSPC/\n",
    "# SNP - SNP Real Time Price. Currency in USD\n",
    "snp500_daily = yf.download(tickers = \"^GSPC\",\n",
    "                     period = \"max\",\n",
    "                     interval = \"1d\")\n",
    "snp500_to_merge = get_growth_df(snp500_daily,'snp500')\n",
    "#snp500_to_merge.tail(2)\n",
    "# Dow Jones Industrial Average: https://finance.yahoo.com/quote/%5EDJI?.tsrc=fin-srch\n",
    "dji_daily = yf.download(tickers = \"^DJI\",\n",
    "                     period = \"max\",\n",
    "                     interval = \"1d\")\n",
    "dji_daily_to_merge = get_growth_df(dji_daily,'dji')\n",
    "#dji_daily_to_merge.tail(2)\n",
    "# ETFs\n",
    "# WisdomTree India Earnings Fund (EPI)\n",
    "# NYSEArca - Nasdaq Real Time Price. Currency in USD\n",
    "# WEB: https://finance.yahoo.com/quote/EPI/history?p=EPI\n",
    "epi_etf_daily = yf.download(tickers = \"EPI\",\n",
    "                     period = \"max\",\n",
    "                     interval = \"1d\")\n",
    "#epi_etf_daily.tail(2)\n",
    "epi_etf_daily_to_merge = get_growth_df(epi_etf_daily,'epi')\n",
    "#epi_etf_daily_to_merge.tail(2)\n",
    "# Real Potential Gross Domestic Product (GDPPOT), Billions of Chained 2012 Dollars, QUARTERLY\n",
    "# https://fred.stlouisfed.org/series/GDPPOT\n",
    "gdppot = pdr.DataReader(\"GDPPOT\", \"fred\", start=start)\n",
    "gdppot['gdppot_us_yoy'] = gdppot.GDPPOT/gdppot.GDPPOT.shift(4)-1\n",
    "gdppot['gdppot_us_qoq'] = gdppot.GDPPOT/gdppot.GDPPOT.shift(1)-1\n",
    "#gdppot.tail(2)\n",
    "gdppot_to_merge = gdppot[['gdppot_us_yoy','gdppot_us_qoq']]\n",
    "#gdppot_to_merge.tail(1)\n",
    "# # \"Core CPI index\", MONTHLY\n",
    "# https://fred.stlouisfed.org/series/CPILFESL\n",
    "# The \"Consumer Price Index for All Urban Consumers: All Items Less Food & Energy\"\n",
    "# is an aggregate of prices paid by urban consumers for a typical basket of goods, excluding food and energy.\n",
    "# This measurement, known as \"Core CPI,\" is widely used by economists because food and energy have very volatile prices.\n",
    "cpilfesl = pdr.DataReader(\"CPILFESL\", \"fred\", start=start)\n",
    "cpilfesl['cpi_core_yoy'] = cpilfesl.CPILFESL/cpilfesl.CPILFESL.shift(12)-1\n",
    "cpilfesl['cpi_core_mom'] = cpilfesl.CPILFESL/cpilfesl.CPILFESL.shift(1)-1\n",
    "\n",
    "#cpilfesl.tail(2)\n",
    "cpilfesl_to_merge = cpilfesl[['cpi_core_yoy','cpi_core_mom']]\n",
    "#cpilfesl_to_merge.tail(2)\n",
    "# Fed rate https://fred.stlouisfed.org/series/FEDFUNDS\n",
    "fedfunds = pdr.DataReader(\"FEDFUNDS\", \"fred\", start=start)\n",
    "#fedfunds.tail(2)\n",
    "# https://fred.stlouisfed.org/series/DGS1\n",
    "dgs1 = pdr.DataReader(\"DGS1\", \"fred\", start=start)\n",
    "#dgs1.tail(2)\n",
    "# https://fred.stlouisfed.org/series/DGS5\n",
    "dgs5 = pdr.DataReader(\"DGS5\", \"fred\", start=start)\n",
    "#dgs5.tail(2)\n",
    "# https://fred.stlouisfed.org/series/DGS10\n",
    "dgs10 = pdr.DataReader(\"DGS10\", \"fred\", start=start)\n",
    "#dgs10.tail(2)\n",
    "## 3.1) [Code snippet 3] VIX - Volatility Index\n",
    "# VIX - Volatility Index\n",
    "# https://finance.yahoo.com/quote/%5EVIX/\n",
    "vix = yf.download(tickers = \"^VIX\",\n",
    "                     period = \"max\",\n",
    "                     interval = \"1d\")\n",
    "#vix.tail(2)\n",
    "vix_to_merge = vix['Adj Close']\n",
    "#vix_to_merge.tail()\n",
    "# Static graphs: hard to zoom in and get the exact dates of spikes\n",
    "#vix['Adj Close'].plot.line(title = \"VIX value over time\")\n",
    "# Dynamic visualisation of VIX prices\n",
    "#fig = px.line(vix,\n",
    "#              x=vix.index,\n",
    "#              y=\"Adj Close\",\n",
    "#              title='VIX over time')\n",
    "#fig.update_layout(title_x=0.5)  # This will center the title horizontally\n",
    "\n",
    "#fig.show()\n",
    "## 3.2) Gold - other assets\n",
    "# GOLD\n",
    "# WEB: https://finance.yahoo.com/quote/GC%3DF\n",
    "gold = yf.download(tickers = \"GC=F\",\n",
    "                     period = \"max\",\n",
    "                     interval = \"1d\")\n",
    "#gold.tail(1)\n",
    "gold_to_merge = get_growth_df(gold,'gold')\n",
    "#gold_to_merge.tail(2)\n",
    "# Dynamic visualisation of GOLD prices\n",
    "#fig = px.line(gold,\n",
    "#              x=gold.index,\n",
    "#              y=\"Adj Close\",\n",
    "#              title='GOLD over time')\n",
    "#fig.update_layout(title_x=0.5)  # This will center the title horizontally\n",
    "\n",
    "#fig.show()\n",
    "## 3.3) WTI Crude and Brent Oil\n",
    "# WTI Crude Oil\n",
    "# WEB: https://uk.finance.yahoo.com/quote/CL=F/\n",
    "crude_oil = yf.download(tickers = \"CL=F\",\n",
    "                     period = \"max\",\n",
    "                     interval = \"1d\")\n",
    "#crude_oil.tail(2)\n",
    "crude_oil_to_merge = get_growth_df(crude_oil,'wti_oil')\n",
    "#crude_oil_to_merge.tail(2)\n",
    "# Dynamic visualisation\n",
    "#fig = px.line(crude_oil,\n",
    "#              x=crude_oil.index,\n",
    "#              y=\"Adj Close\",\n",
    "#              title='WTI Crude Oil over time')\n",
    "#fig.update_layout(title_x=0.5)  # This will center the title horizontally\n",
    "\n",
    "#fig.show()\n",
    "# Brent Oil\n",
    "# WEB: https://uk.finance.yahoo.com/quote/BZ=F/\n",
    "brent_oil = yf.download(tickers = \"BZ=F\",\n",
    "                     period = \"max\",\n",
    "                     interval = \"1d\")\n",
    "\n",
    "#brent_oil.tail(2)\n",
    "brent_oil_to_merge = get_growth_df(brent_oil,'brent_oil')\n",
    "#brent_oil_to_merge.tail(2)\n",
    "# Dynamic visualisation\n",
    "#fig = px.line(brent_oil,\n",
    "#              x=brent_oil.index,\n",
    "#              y=\"Adj Close\",\n",
    "#              title='Brent Oil over time')\n",
    "#fig.update_layout(title_x=0.5)  # This will center the title horizontally\n",
    "\n",
    "#fig.show()\n",
    "\n",
    "## 3.4) Bitcoin prices: BTC_USD\n",
    "# https://finance.yahoo.com/quote/BTC-USD/\n",
    "btc_usd =  yf.download(tickers = \"BTC-USD\",\n",
    "                     period = \"max\",\n",
    "                     interval = \"1d\")\n",
    "\n",
    "#btc_usd.tail(2)\n",
    "btc_usd_to_merge = get_growth_df(btc_usd,'btc_usd')\n",
    "#btc_usd_to_merge.tail(2)\n",
    "# Dynamic visualisation\n",
    "#fig = px.line(btc_usd,\n",
    "#              x=btc_usd.index,\n",
    "#              y=\"Adj Close\",\n",
    "#              title='Bitcoin price daily')\n",
    "#fig.update_layout(title_x=0.5)  # This will center the title horizontally\n",
    "\n",
    "#fig.show()\n",
    "\n",
    "## 3.5 [Code snippet 4] Eurostat: \"The home of high-quality statistics and data on Europe\"\n",
    "\n",
    "#!pip install eurostat\n",
    "\n",
    "# https://pypi.org/project/eurostat/\n",
    "# https://ec.europa.eu/eurostat/web/main/data/database\n",
    "import eurostat\n",
    "# LONG WAIT TIME ~15 min, unless you filter data\n",
    "\n",
    "# https://ec.europa.eu/eurostat/cache/metadata/en/irt_euryld_esms.htm\n",
    "  # Euro yield curves (irt_euryld)\n",
    "  # Reference Metadata in Euro SDMX Metadata Structure (ESMS)\n",
    "  # Compiling agency: Eurostat, the statistical office of the European Uni\n",
    "\n",
    "# the service is slow, you need to specify addtional params : https://pypi.org/project/eurostat/0.2.3/\n",
    "\n",
    "filter_pars = {'startPeriod':'2024-04-01', 'endPeriod':'2024-05-01'}\n",
    "\n",
    "code = 'irt_euryld_d'\n",
    "eurostat_euro_yield_df = eurostat.get_data_df(code, flags=True, filter_pars=filter_pars,  verbose=True)\n",
    "#eurostat_euro_yield_df.info()\n",
    "#eurostat_euro_yield_df.head()\n",
    "#eurostat_euro_yield_df['bonds'].value_counts()\n",
    "#eurostat_euro_yield_df['maturity'].value_counts()\n",
    "\n",
    "#eurostat_euro_yield_df['yld_curv'].value_counts()\n",
    "#eurostat_euro_yield_df\n",
    "# Visual graph: https://www.ecb.europa.eu/stats/financial_markets_and_interest_rates/euro_area_yield_curves/html/index.en.html\n",
    "FILTER = (eurostat_euro_yield_df.yld_curv=='SPOT_RT')& (eurostat_euro_yield_df.bonds=='CGB_EA_AAA')\n",
    "filtered_eurostat_euro_yield_df = eurostat_euro_yield_df[FILTER]\n",
    "filtered_eurostat_euro_yield_df.sort_values(by='maturity')[['maturity','2024-04-18_value']].head(20)\n",
    "import re\n",
    "\n",
    "def extract_numbers(input_string):\n",
    "    y_match = re.search(r'Y(\\d+)', input_string)\n",
    "    m_match = re.search(r'M(\\d+)', input_string)\n",
    "\n",
    "    y_number = int(y_match.group(1)) if y_match else 0\n",
    "    m_number = int(m_match.group(1)) if m_match else 0\n",
    "\n",
    "\n",
    "    return y_number*12 + m_number\n",
    "\n",
    "# Examples\n",
    "#examples = [\"Y10_M2\", \"M3\", \"Y1\"]\n",
    "#for example in examples:\n",
    "#    res = extract_numbers(example)\n",
    "#    print(f\"{example} ==> {res}\")\n",
    "# define new field: \"maturity in months\"\n",
    "filtered_eurostat_euro_yield_df['maturity_in_months'] = filtered_eurostat_euro_yield_df.maturity.apply(lambda x:extract_numbers(x))\n",
    "#filtered_eurostat_euro_yield_df.sort_values(by='maturity_in_months')[['maturity','maturity_in_months','2024-04-18_value']].head(20)\n",
    "filtered_eurostat_euro_yield_df.loc[:,'maturity_in_years'] = filtered_eurostat_euro_yield_df.maturity_in_months/12.0\n",
    "# exactly the same as on the Web:  https://www.ecb.europa.eu/stats/financial_markets_and_interest_rates/euro_area_yield_curves/html/index.en.html\n",
    "#filtered_eurostat_euro_yield_df \\\n",
    "#  .sort_values(by='maturity_in_months')[['maturity_in_years','2024-04-18_value']] \\\n",
    "#  .plot.line(x='maturity_in_years',\n",
    "#            y='2024-04-18_value',\n",
    "#            title='AAA rated bonds spot yield curve')\n",
    "# 4) [Code Snippet 5] Fundamental indicators\n",
    "\n",
    "#* Read about \"Ratio Analysis\" to learn about more ratios: https://www.investopedia.com/terms/r/ratioanalysis.asp\n",
    "#* https://algotrading101.com/learn/yahoo-finance-api-guide/\n",
    "# let's select some set of stocks: e.g. top US companies on 'Employees':\n",
    "# https://companiesmarketcap.com/usa/largest-american-companies-by-number-of-employees/\n",
    "\n",
    "US_TOP_EMPLOYEES_STOCKS = ['WMT','AMZN','UPS','HD','CNXC','TGT','KR','UNH','BRK-B','SBUX']\n",
    "\n",
    "# WMT\n",
    "ticker = US_TOP_EMPLOYEES_STOCKS[0]\n",
    "\n",
    "# WMT ticker\n",
    "one_company = yf.Ticker(ticker)\n",
    "# Fundamental info appears close earning dates, you need to download it and use quickly (before/after trading day),\n",
    "#  unless you're a fundamental long-term investor looking for a several months-quarters-years strategy (period between buy and sell)\n",
    "# This dfthis is the easiest thing to join with the main dataset and get \"some\" technical indicators present\n",
    "eps_earnings = one_company.earnings_dates\n",
    "eps_earnings['Ticker'] = ticker\n",
    "#eps_earnings\n",
    "#one_company.calendar\n",
    "#one_company.financials\n",
    "EPS = one_company.financials.loc['Basic EPS']\n",
    "#EPS\n",
    "# or should we use NORMALIZED_EBITDA?\n",
    "EBITDA = one_company.financials.loc['EBITDA']\n",
    "EBITDA_margin = one_company.financials.loc['EBITDA'] /  one_company.financials.loc['Total Revenue']\n",
    "#EBITDA_margin\n",
    "NET_INCOME = one_company.financials.loc['Net Income']\n",
    "NET_INCOME_margin = one_company.financials.loc['Net Income'] /  one_company.financials.loc['Total Revenue']\n",
    "#NET_INCOME\n",
    "# Compare with Public information - you can fully replicate the numbers (yearly and/or quarterly):\n",
    "# https://www.wsj.com/market-data/quotes/WMT/financials/annual/income-statement\n",
    "#NET_INCOME_margin\n",
    "# Combine the series into a DataFrame\n",
    "df_fin_ratios = pd.DataFrame({\n",
    "    'NET_INCOME_margin': 100.0 * NET_INCOME_margin, #for visualisation -- Margin in %\n",
    "    'EBITDA_margin': 100.0 *EBITDA_margin, #for visualisation -- Margin in %\n",
    "    'EPS': EPS\n",
    "})\n",
    "import pandas as pd\n",
    "import matplotlib.pyplot as plt\n",
    "import matplotlib.ticker as mtick\n",
    "\n",
    "# Assuming df_fin_ratios is your DataFrame containing the financial ratios\n",
    "# Make sure you have already created this DataFrame\n",
    "\n",
    "# Plotting the specified columns\n",
    "#ax = df_fin_ratios[['NET_INCOME_margin','EBITDA_margin']].plot.line()\n",
    "\n",
    "# Setting the y-axis formatter to display values as percentages\n",
    "#ax.yaxis.set_major_formatter(mtick.PercentFormatter())\n",
    "\n",
    "# Adding title\n",
    "#plt.title('NET INCOME Margin vs EBITDA Margin')\n",
    "\n",
    "# Displaying the plot\n",
    "#plt.show()\n",
    "EPS_year = df_fin_ratios['EPS'].index.year\n",
    "\n",
    "#df_fin_ratios['EPS'].plot.bar(title = 'EPS yearly for Walmart (WMT)')\n",
    "\n",
    "#plt.xticks(range(len(EPS_year)), EPS_year)\n",
    "# Displaying the plot\n",
    "#plt.show()\n",
    "# 5) [Code snippet 7] Daily OHCLV data for a set of stocks\n",
    "# https://companiesmarketcap.com/usa/largest-companies-in-the-usa-by-market-cap/\n",
    "US_STOCKS = ['MSFT', 'AAPL', 'GOOG', 'NVDA', 'AMZN', 'META', 'BRK-B', 'LLY', 'AVGO','V', 'JPM']\n",
    "\n",
    "# You're required to add EU_STOCKS and INDIA_STOCS\n",
    "# https://companiesmarketcap.com/european-union/largest-companies-in-the-eu-by-market-cap/\n",
    "EU_STOCKS = ['NVO','MC.PA', 'ASML', 'RMS.PA', 'OR.PA', 'SAP', 'ACN', 'TTE', 'SIE.DE','IDEXY','CDI.PA']\n",
    "\n",
    "# https://companiesmarketcap.com/india/largest-companies-in-india-by-market-cap/\n",
    "INDIA_STOCKS = ['RELIANCE.NS','TCS.NS','HDB','BHARTIARTL.NS','IBN','SBIN.NS','LICI.NS','INFY','ITC.NS','HINDUNILVR.NS','LT.NS']\n",
    "ALL_TICKERS = US_STOCKS  + EU_STOCKS + INDIA_STOCKS\n",
    "#ALL_TICKERS\n",
    "import time\n",
    "\n",
    "stocks_df = pd.DataFrame({'A' : []})\n",
    "\n",
    "for i,ticker in enumerate(ALL_TICKERS):\n",
    "  print(i,ticker)\n",
    "\n",
    "  # Work with stock prices\n",
    "  historyPrices = yf.download(tickers = ticker,\n",
    "                     period = \"max\",\n",
    "                     interval = \"1d\")\n",
    "\n",
    "  # generate features for historical prices, and what we want to predict\n",
    "  historyPrices['Ticker'] = ticker\n",
    "  historyPrices['Year']= historyPrices.index.year\n",
    "  historyPrices['Month'] = historyPrices.index.month\n",
    "  historyPrices['Weekday'] = historyPrices.index.weekday\n",
    "  historyPrices['Date'] = historyPrices.index.date\n",
    "\n",
    "  # historical returns\n",
    "  for i in [1,3,7,30,90,365]:\n",
    "    historyPrices['growth_'+str(i)+'d'] = historyPrices['Adj Close'] / historyPrices['Adj Close'].shift(i)\n",
    "  historyPrices['growth_future_5d'] = historyPrices['Adj Close'].shift(-5) / historyPrices['Adj Close']\n",
    "\n",
    "  # Technical indicators\n",
    "  # SimpleMovingAverage 10 days and 20 days\n",
    "  historyPrices['SMA10']= historyPrices['Close'].rolling(10).mean()\n",
    "  historyPrices['SMA20']= historyPrices['Close'].rolling(20).mean()\n",
    "  historyPrices['growing_moving_average'] = np.where(historyPrices['SMA10'] > historyPrices['SMA20'], 1, 0)\n",
    "  historyPrices['high_minus_low_relative'] = (historyPrices.High - historyPrices.Low) / historyPrices['Adj Close']\n",
    "\n",
    "  # 30d rolling volatility : https://ycharts.com/glossary/terms/rolling_vol_30\n",
    "  historyPrices['volatility'] =   historyPrices['Adj Close'].rolling(30).std() * np.sqrt(252)\n",
    "\n",
    "  # what we want to predict\n",
    "  historyPrices['is_positive_growth_5d_future'] = np.where(historyPrices['growth_future_5d'] > 1, 1, 0)\n",
    "\n",
    "  # sleep 1 sec between downloads - not to overload the API server\n",
    "  time.sleep(1)\n",
    "\n",
    "\n",
    "  if stocks_df.empty:\n",
    "    stocks_df = historyPrices\n",
    "  else:\n",
    "    stocks_df = pd.concat([stocks_df, historyPrices], ignore_index=True)\n",
    "def get_ticker_type(ticker:str, us_stocks_list, eu_stocks_list, india_stocks_list):\n",
    "  if ticker in us_stocks_list:\n",
    "    return 'US'\n",
    "  elif ticker in eu_stocks_list:\n",
    "    return 'EU'\n",
    "  elif ticker in india_stocks_list:\n",
    "    return 'INDIA'\n",
    "  else:\n",
    "    return 'ERROR'\n",
    "\n",
    "stocks_df['ticker_type'] = stocks_df.Ticker.apply(lambda x:get_ticker_type(x, US_STOCKS, EU_STOCKS, INDIA_STOCKS))\n",
    "# count of observations between US-EU-INDIA stocks\n",
    "#stocks_df.ticker_type.value_counts()\n",
    "# unique tickers\n",
    "#stocks_df.Ticker.nunique()\n",
    "# count of observations by stock\n",
    "#stocks_df.Ticker.value_counts()\n",
    "stocks_df.groupby(['Ticker','ticker_type']).Date.agg(['min','max'])\n",
    "#  average growth 365days\n",
    "stocks_df[stocks_df.Year>=2020].groupby(by=['Year','ticker_type']).growth_365d.mean()\n",
    "stocks_df['Date'] = pd.to_datetime(stocks_df['Date'])\n",
    "# filtering only on stats after 2000\n",
    "#stocks_df[stocks_df.Date>='2000-01-01'].info()\n",
    "#stocks_df[stocks_df.Date=='2024-04-01'].tail()\n",
    "#6) [Code Snippet 8] Technical Indicators with TA-lib\n",
    "#* PythonInvest article on Tech. Indicators\n",
    "#* Code for generating 100+ tech. indicators/patterns : https://github.com/realmistic/PythonInvest-basic-fin-analysis/blob/master/colab_notebooks/Part14_Exploring_Tech_Indicators_For_Stocks_and_Crypto.ipynb\n",
    "#Indicator groups: https://github.com/TA-Lib/ta-lib-python/blob/master/README.md\n",
    "\n",
    "#* Overlap Studies (17)\n",
    "#* Momentum Indicators (30+)\n",
    "#* Volume Indicators (3)\n",
    "#* Cycle Indicators (5)\n",
    "#* Price Transform (4)\n",
    "#* Volatility Indicators (3)\n",
    "#* Pattern Recognition (60)\n",
    "# https://stackoverflow.com/questions/49648391/how-to-install-ta-lib-in-google-colab\n",
    "# Update (apr 2023): Colab is now Python 3.10\n",
    "# there are some other (older) ways to install talib\n",
    "\n",
    "#url = 'https://anaconda.org/conda-forge/libta-lib/0.4.0/download/linux-64/libta-lib-0.4.0-h166bdaf_1.tar.bz2'\n",
    "#!curl -L $url | tar xj -C /usr/lib/x86_64-linux-gnu/ lib --strip-components=1\n",
    "#url = 'https://anaconda.org/conda-forge/ta-lib/0.4.19/download/linux-64/ta-lib-0.4.19-py310hde88566_4.tar.bz2'\n",
    "#!curl -L $url | tar xj -C /usr/local/lib/python3.10/dist-packages/ lib/python3.10/site-packages/talib --strip-components=3\n",
    "\n",
    "import talib\n",
    "## 6.1) Momentum indicators\n",
    "#https://github.com/TA-Lib/ta-lib-python/blob/master/docs/func_groups/momentum_indicators.md\n",
    "def talib_get_momentum_indicators_for_one_ticker(df: pd.DataFrame) -> pd.DataFrame:\n",
    "  # ADX - Average Directional Movement Index\n",
    "  talib_momentum_adx = talib.ADX(df.High.values, df.Low.values, df.Close.values, timeperiod=14)\n",
    "  # ADXR - Average Directional Movement Index Rating\n",
    "  talib_momentum_adxr = talib.ADXR(df.High.values, df.Low.values, df.Close.values, timeperiod=14 )\n",
    "  # APO - Absolute Price Oscillator\n",
    "  talib_momentum_apo = talib.APO(df.Close.values, fastperiod=12, slowperiod=26, matype=0 )\n",
    "  # AROON - Aroon\n",
    "  talib_momentum_aroon = talib.AROON(df.High.values, df.Low.values, timeperiod=14 )\n",
    "  # talib_momentum_aroon[0].size\n",
    "  # talib_momentum_aroon[1].size\n",
    "  # AROONOSC - Aroon Oscillator\n",
    "  talib_momentum_aroonosc = talib.AROONOSC(df.High.values, df.Low.values, timeperiod=14)\n",
    "  # BOP - Balance of Power\n",
    "  # https://school.stockcharts.com/doku.php?id=technical_indicators:balance_of_power\n",
    "     #calculate open prices as shifted closed prices from the prev day\n",
    "     # open = df.Last.shift(1)\n",
    "  talib_momentum_bop = talib.BOP(df.Open.values, df.High.values, df.Low.values, df.Close.values)\n",
    "  # CCI - Commodity Channel Index\n",
    "  talib_momentum_cci = talib.CCI(df.High.values, df.Low.values, df.Close.values, timeperiod=14)\n",
    "  # CMO - Chande Momentum Oscillator\n",
    "  talib_momentum_cmo = talib.CMO(df.Close.values, timeperiod=14)\n",
    "  # DX - Directional Movement Index\n",
    "  talib_momentum_dx = talib.DX(df.High.values, df.Low.values, df.Close.values, timeperiod=14)\n",
    "  # MACD - Moving Average Convergence/Divergence\n",
    "  talib_momentum_macd, talib_momentum_macdsignal, talib_momentum_macdhist = talib.MACD(df.Close.values, fastperiod=12, \\\n",
    "                                                                                       slowperiod=26, signalperiod=9)\n",
    "  # MACDEXT - MACD with controllable MA type\n",
    "  talib_momentum_macd_ext, talib_momentum_macdsignal_ext, talib_momentum_macdhist_ext = talib.MACDEXT(df.Close.values, \\\n",
    "                                                                                                    fastperiod=12, \\\n",
    "                                                                                                    fastmatype=0, \\\n",
    "                                                                                                    slowperiod=26, \\\n",
    "                                                                                                    slowmatype=0, \\\n",
    "                                                                                                    signalperiod=9, \\\n",
    "                                                                                                  signalmatype=0)\n",
    "  # MACDFIX - Moving Average Convergence/Divergence Fix 12/26\n",
    "  talib_momentum_macd_fix, talib_momentum_macdsignal_fix, talib_momentum_macdhist_fix = talib.MACDFIX(df.Close.values, \\\n",
    "                                                                                                      signalperiod=9)\n",
    "  # MFI - Money Flow Index\n",
    "  talib_momentum_mfi = talib.MFI(df.High.values, df.Low.values, df.Close.values, df.Volume.values, timeperiod=14)\n",
    "  # MINUS_DI - Minus Directional Indicator\n",
    "  talib_momentum_minus_di = talib.MINUS_DM(df.High.values, df.Low.values, timeperiod=14)\n",
    "  # MOM - Momentum\n",
    "  talib_momentum_mom = talib.MOM(df.Close.values, timeperiod=10)\n",
    "  # PLUS_DI - Plus Directional Indicator\n",
    "  talib_momentum_plus_di = talib.PLUS_DI(df.High.values, df.Low.values, df.Close.values, timeperiod=14)\n",
    "  # PLUS_DM - Plus Directional Movement\n",
    "  talib_momentum_plus_dm = talib.PLUS_DM(df.High.values, df.Low.values, timeperiod=14)\n",
    "  # PPO - Percentage Price Oscillator\n",
    "  talib_momentum_ppo = talib.PPO(df.Close.values, fastperiod=12, slowperiod=26, matype=0)\n",
    "  # ROC - Rate of change : ((price/prevPrice)-1)*100\n",
    "  talib_momentum_roc = talib.ROC(df.Close.values, timeperiod=10)\n",
    "  # ROCP - Rate of change Percentage: (price-prevPrice)/prevPrice\n",
    "  talib_momentum_rocp = talib.ROCP(df.Close.values, timeperiod=10)\n",
    "  # ROCR - Rate of change ratio: (price/prevPrice)\n",
    "  talib_momentum_rocr = talib.ROCR(df.Close.values, timeperiod=10)\n",
    "  # ROCR100 - Rate of change ratio 100 scale: (price/prevPrice)*100\n",
    "  talib_momentum_rocr100 = talib.ROCR100(df.Close.values, timeperiod=10)\n",
    "  # RSI - Relative Strength Index\n",
    "  talib_momentum_rsi = talib.RSI(df.Close.values, timeperiod=14)\n",
    "  # STOCH - Stochastic\n",
    "  talib_momentum_slowk, talib_momentum_slowd = talib.STOCH(df.High.values, df.Low.values, df.Close.values, \\\n",
    "                                                           fastk_period=5, slowk_period=3, slowk_matype=0, slowd_period=3, slowd_matype=0)\n",
    "  # STOCHF - Stochastic Fast\n",
    "  talib_momentum_fastk, talib_momentum_fastd = talib.STOCHF(df.High.values, df.Low.values, df.Close.values, \\\n",
    "                                                            fastk_period=5, fastd_period=3, fastd_matype=0)\n",
    "  # STOCHRSI - Stochastic Relative Strength Index\n",
    "  talib_momentum_fastk_rsi, talib_momentum_fastd_rsi = talib.STOCHRSI(df.Close.values, timeperiod=14, \\\n",
    "                                                                      fastk_period=5, fastd_period=3, fastd_matype=0)\n",
    "  # TRIX - 1-day Rate-Of-Change (ROC) of a Triple Smooth EMA\n",
    "  talib_momentum_trix = talib.TRIX(df.Close.values, timeperiod=30)\n",
    "  # ULTOSC - Ultimate Oscillator\n",
    "  talib_momentum_ultosc = talib.ULTOSC(df.High.values, df.Low.values, df.Close.values, timeperiod1=7, timeperiod2=14, timeperiod3=28)\n",
    "  # WILLR - Williams' %R\n",
    "  talib_momentum_willr = talib.WILLR(df.High.values, df.Low.values, df.Close.values, timeperiod=14)\n",
    "\n",
    "  momentum_df =   pd.DataFrame(\n",
    "    {\n",
    "      # assume here multi-index <dateTime, ticker>\n",
    "      # 'datetime': df.index.get_level_values(0),\n",
    "      # 'ticker': df.index.get_level_values(1) ,\n",
    "\n",
    "      # old way with separate columns\n",
    "      'Date': df.Date.values,\n",
    "      'Ticker': df.Ticker,\n",
    "\n",
    "      'adx': talib_momentum_adx,\n",
    "      'adxr': talib_momentum_adxr,\n",
    "      'apo': talib_momentum_apo,\n",
    "      'aroon_1': talib_momentum_aroon[0] ,\n",
    "      'aroon_2': talib_momentum_aroon[1],\n",
    "      'aroonosc': talib_momentum_aroonosc,\n",
    "      'bop': talib_momentum_bop,\n",
    "      'cci': talib_momentum_cci,\n",
    "      'cmo': talib_momentum_cmo,\n",
    "      'dx': talib_momentum_dx,\n",
    "      'macd': talib_momentum_macd,\n",
    "      'macdsignal': talib_momentum_macdsignal,\n",
    "      'macdhist': talib_momentum_macdhist,\n",
    "      'macd_ext': talib_momentum_macd_ext,\n",
    "      'macdsignal_ext': talib_momentum_macdsignal_ext,\n",
    "      'macdhist_ext': talib_momentum_macdhist_ext,\n",
    "      'macd_fix': talib_momentum_macd_fix,\n",
    "      'macdsignal_fix': talib_momentum_macdsignal_fix,\n",
    "      'macdhist_fix': talib_momentum_macdhist_fix,\n",
    "      'mfi': talib_momentum_mfi,\n",
    "      'minus_di': talib_momentum_minus_di,\n",
    "      'mom': talib_momentum_mom,\n",
    "      'plus_di': talib_momentum_plus_di,\n",
    "      'dm': talib_momentum_plus_dm,\n",
    "      'ppo': talib_momentum_ppo,\n",
    "      'roc': talib_momentum_roc,\n",
    "      'rocp': talib_momentum_rocp,\n",
    "      'rocr': talib_momentum_rocr,\n",
    "      'rocr100': talib_momentum_rocr100,\n",
    "      'rsi': talib_momentum_rsi,\n",
    "      'slowk': talib_momentum_slowk,\n",
    "      'slowd': talib_momentum_slowd,\n",
    "      'fastk': talib_momentum_fastk,\n",
    "      'fastd': talib_momentum_fastd,\n",
    "      'fastk_rsi': talib_momentum_fastk_rsi,\n",
    "      'fastd_rsi': talib_momentum_fastd_rsi,\n",
    "      'trix': talib_momentum_trix,\n",
    "      'ultosc': talib_momentum_ultosc,\n",
    "      'willr': talib_momentum_willr,\n",
    "     }\n",
    "  )\n",
    "  return momentum_df\n",
    "## 6.2 Volume, Volatility, Cycle, Price indicators\n",
    "#https://github.com/TA-Lib/ta-lib-python/blob/master/docs/func_groups/volume_indicators.md\n",
    "def talib_get_volume_volatility_cycle_price_indicators(df: pd.DataFrame) -> pd.DataFrame:\n",
    "        # TA-Lib Volume indicators\n",
    "        # https://github.com/TA-Lib/ta-lib-python/blob/master/docs/func_groups/volume_indicators.md\n",
    "        # AD - Chaikin A/D Line\n",
    "        talib_ad = talib.AD(\n",
    "            df.High.values, df.Low.values, df.Close.values, df.Volume.values)\n",
    "        # ADOSC - Chaikin A/D Oscillator\n",
    "        talib_adosc = talib.ADOSC(\n",
    "            df.High.values, df.Low.values, df.Close.values, df.Volume.values, fastperiod=3, slowperiod=10)\n",
    "        # OBV - On Balance Volume\n",
    "        talib_obv = talib.OBV(\n",
    "            df.Close.values, df.Volume.values)\n",
    "\n",
    "        # TA-Lib Volatility indicators\n",
    "        # https://github.com/TA-Lib/ta-lib-python/blob/master/docs/func_groups/volatility_indicators.md\n",
    "        # ATR - Average True Range\n",
    "        talib_atr = talib.ATR(\n",
    "            df.High.values, df.Low.values, df.Close.values, timeperiod=14)\n",
    "        # NATR - Normalized Average True Range\n",
    "        talib_natr = talib.NATR(\n",
    "            df.High.values, df.Low.values, df.Close.values, timeperiod=14)\n",
    "        # OBV - On Balance Volume\n",
    "        talib_obv = talib.OBV(\n",
    "            df.Close.values, df.Volume.values)\n",
    "\n",
    "        # TA-Lib Cycle Indicators\n",
    "        # https://github.com/TA-Lib/ta-lib-python/blob/master/docs/func_groups/cycle_indicators.md\n",
    "        # HT_DCPERIOD - Hilbert Transform - Dominant Cycle Period\n",
    "        talib_ht_dcperiod = talib.HT_DCPERIOD(df.Close.values)\n",
    "        # HT_DCPHASE - Hilbert Transform - Dominant Cycle Phase\n",
    "        talib_ht_dcphase = talib.HT_DCPHASE(df.Close.values)\n",
    "        # HT_PHASOR - Hilbert Transform - Phasor Components\n",
    "        talib_ht_phasor_inphase, talib_ht_phasor_quadrature = talib.HT_PHASOR(\n",
    "            df.Close.values)\n",
    "        # HT_SINE - Hilbert Transform - SineWave\n",
    "        talib_ht_sine_sine, talib_ht_sine_leadsine = talib.HT_SINE(\n",
    "            df.Close.values)\n",
    "        # HT_TRENDMODE - Hilbert Transform - Trend vs Cycle Mode\n",
    "        talib_ht_trendmode = talib.HT_TRENDMODE(df.Close.values)\n",
    "\n",
    "        # TA-Lib Price Transform Functions\n",
    "        # https://github.com/TA-Lib/ta-lib-python/blob/master/docs/func_groups/price_transform.md\n",
    "        # AVGPRICE - Average Price\n",
    "        talib_avgprice = talib.AVGPRICE(\n",
    "            df.Open.values, df.High.values, df.Low.values, df.Close.values)\n",
    "        # MEDPRICE - Median Price\n",
    "        talib_medprice = talib.MEDPRICE(df.High.values, df.Low.values)\n",
    "        # TYPPRICE - Typical Price\n",
    "        talib_typprice = talib.TYPPRICE(\n",
    "            df.High.values, df.Low.values, df.Close.values)\n",
    "        # WCLPRICE - Weighted Close Price\n",
    "        talib_wclprice = talib.WCLPRICE(\n",
    "            df.High.values, df.Low.values, df.Close.values)\n",
    "\n",
    "        volume_volatility_cycle_price_df = pd.DataFrame(\n",
    "            {'Date': df.Date.values,\n",
    "             'Ticker': df.Ticker,\n",
    "             # TA-Lib Volume indicators\n",
    "             'ad': talib_ad,\n",
    "             'adosc': talib_adosc,\n",
    "             'obv': talib_obv,\n",
    "             # TA-Lib Volatility indicators\n",
    "             'atr': talib_atr,\n",
    "             'natr': talib_natr,\n",
    "             'obv': talib_obv,\n",
    "             # TA-Lib Cycle Indicators\n",
    "             'ht_dcperiod': talib_ht_dcperiod,\n",
    "             'ht_dcphase': talib_ht_dcphase,\n",
    "             'ht_phasor_inphase': talib_ht_phasor_inphase,\n",
    "             'ht_phasor_quadrature': talib_ht_phasor_quadrature,\n",
    "             'ht_sine_sine': talib_ht_sine_sine,\n",
    "             'ht_sine_leadsine': talib_ht_sine_leadsine,\n",
    "             'ht_trendmod': talib_ht_trendmode,\n",
    "             # TA-Lib Price Transform Functions\n",
    "             'avgprice': talib_avgprice,\n",
    "             'medprice': talib_medprice,\n",
    "             'typprice': talib_typprice,\n",
    "             'wclprice': talib_wclprice,\n",
    "             }\n",
    "        )\n",
    "\n",
    "        # Need a proper date type\n",
    "        volume_volatility_cycle_price_df['Date'] = pd.to_datetime(\n",
    "            volume_volatility_cycle_price_df['Date'])\n",
    "\n",
    "        return volume_volatility_cycle_price_df\n",
    "## 6.3) Pattern indicators\n",
    "#https://github.com/TA-Lib/ta-lib-python/blob/master/docs/func_groups/pattern_recognition.md\n",
    "def talib_get_pattern_recognition_indicators(df: pd.DataFrame) -> pd.DataFrame:\n",
    "# TA-Lib Pattern Recognition indicators\n",
    "        # https://github.com/TA-Lib/ta-lib-python/blob/master/docs/func_groups/pattern_recognition.md\n",
    "        # Nice article about candles (pattern recognition) https://medium.com/analytics-vidhya/recognizing-over-50-candlestick-patterns-with-python-4f02a1822cb5\n",
    "\n",
    "        # CDL2CROWS - Two Crows\n",
    "        talib_cdl2crows = talib.CDL2CROWS(\n",
    "            df.Open.values, df.High.values, df.Low.values, df.Close.values)\n",
    "        # CDL3BLACKCROWS - Three Black Crows\n",
    "        talib_cdl3blackrows = talib.CDL3BLACKCROWS(\n",
    "            df.Open.values, df.High.values, df.Low.values, df.Close.values)\n",
    "        # CDL3INSIDE - Three Inside Up/Down\n",
    "        talib_cdl3inside = talib.CDL3INSIDE(\n",
    "            df.Open.values, df.High.values, df.Low.values, df.Close.values)\n",
    "        # CDL3LINESTRIKE - Three-Line Strike\n",
    "        talib_cdl3linestrike = talib.CDL3LINESTRIKE(\n",
    "            df.Open.values, df.High.values, df.Low.values, df.Close.values)\n",
    "        # CDL3OUTSIDE - Three Outside Up/Down\n",
    "        talib_cdl3outside = talib.CDL3OUTSIDE(\n",
    "            df.Open.values, df.High.values, df.Low.values, df.Close.values)\n",
    "        # CDL3STARSINSOUTH - Three Stars In The South\n",
    "        talib_cdl3starsinsouth = talib.CDL3STARSINSOUTH(\n",
    "            df.Open.values, df.High.values, df.Low.values, df.Close.values)\n",
    "        # CDL3WHITESOLDIERS - Three Advancing White Soldiers\n",
    "        talib_cdl3whitesoldiers = talib.CDL3WHITESOLDIERS(\n",
    "            df.Open.values, df.High.values, df.Low.values, df.Close.values)\n",
    "        # CDLABANDONEDBABY - Abandoned Baby\n",
    "        talib_cdlabandonedbaby = talib.CDLABANDONEDBABY(\n",
    "            df.Open.values, df.High.values, df.Low.values, df.Close.values, penetration=0)\n",
    "        # CDLADVANCEBLOCK - Advance Block\n",
    "        talib_cdladvancedblock = talib.CDLADVANCEBLOCK(\n",
    "            df.Open.values, df.High.values, df.Low.values, df.Close.values)\n",
    "        # CDLBELTHOLD - Belt-hold\n",
    "        talib_cdlbelthold = talib.CDLBELTHOLD(\n",
    "            df.Open.values, df.High.values, df.Low.values, df.Close.values)\n",
    "        # CDLBREAKAWAY - Breakaway\n",
    "        talib_cdlbreakaway = talib.CDLBREAKAWAY(\n",
    "            df.Open.values, df.High.values, df.Low.values, df.Close.values)\n",
    "        # CDLCLOSINGMARUBOZU - Closing Marubozu\n",
    "        talib_cdlclosingmarubozu = talib.CDLCLOSINGMARUBOZU(\n",
    "            df.Open.values, df.High.values, df.Low.values, df.Close.values)\n",
    "        # CDLCONCEALBABYSWALL - Concealing Baby Swallow\n",
    "        talib_cdlconcealbabyswall = talib.CDLCONCEALBABYSWALL(\n",
    "            df.Open.values, df.High.values, df.Low.values, df.Close.values)\n",
    "        # CDLCOUNTERATTACK - Counterattack\n",
    "        talib_cdlcounterattack = talib.CDLCOUNTERATTACK(\n",
    "            df.Open.values, df.High.values, df.Low.values, df.Close.values)\n",
    "        # CDLDARKCLOUDCOVER - Dark Cloud Cover\n",
    "        talib_cdldarkcloudcover = talib.CDLDARKCLOUDCOVER(\n",
    "            df.Open.values, df.High.values, df.Low.values, df.Close.values, penetration=0)\n",
    "        # CDLDOJI - Doji\n",
    "        talib_cdldoji = talib.CDLDOJI(\n",
    "            df.Open.values, df.High.values, df.Low.values, df.Close.values)\n",
    "        # CDLDOJISTAR - Doji Star\n",
    "        talib_cdldojistar = talib.CDLDOJISTAR(\n",
    "            df.Open.values, df.High.values, df.Low.values, df.Close.values)\n",
    "        # CDLDRAGONFLYDOJI - Dragonfly Doji\n",
    "        talib_cdldragonflydoji = talib.CDLDRAGONFLYDOJI(\n",
    "            df.Open.values, df.High.values, df.Low.values, df.Close.values)\n",
    "        # CDLENGULFING - Engulfing Pattern\n",
    "        talib_cdlengulfing = talib.CDLENGULFING(\n",
    "            df.Open.values, df.High.values, df.Low.values, df.Close.values)\n",
    "\n",
    "        # CDLEVENINGDOJISTAR - Evening Doji Star\n",
    "        talib_cdleveningdojistar = talib.CDLEVENINGDOJISTAR(\n",
    "            df.Open.values, df.High.values, df.Low.values, df.Close.values, penetration=0)\n",
    "        # CDLEVENINGSTAR - Evening Star\n",
    "        talib_cdleveningstar = talib.CDLEVENINGSTAR(\n",
    "            df.Open.values, df.High.values, df.Low.values, df.Close.values, penetration=0)\n",
    "        # CDLGAPSIDESIDEWHITE - Up/Down-gap side-by-side white lines\n",
    "        talib_cdlgapsidesidewhite = talib.CDLGAPSIDESIDEWHITE(\n",
    "            df.Open.values, df.High.values, df.Low.values, df.Close.values)\n",
    "        # CDLGRAVESTONEDOJI - Gravestone Doji\n",
    "        talib_cdlgravestonedoji = talib.CDLGRAVESTONEDOJI(\n",
    "            df.Open.values, df.High.values, df.Low.values, df.Close.values)\n",
    "        # CDLHAMMER - Hammer\n",
    "        talib_cdlhammer = talib.CDLHAMMER(\n",
    "            df.Open.values, df.High.values, df.Low.values, df.Close.values)\n",
    "        # CDLHANGINGMAN - Hanging Man\n",
    "        talib_cdlhangingman = talib.CDLHANGINGMAN(\n",
    "            df.Open.values, df.High.values, df.Low.values, df.Close.values)\n",
    "        # CDLHARAMI - Harami Pattern\n",
    "        talib_cdlharami = talib.CDLHARAMI(\n",
    "            df.Open.values, df.High.values, df.Low.values, df.Close.values)\n",
    "        # CDLHARAMICROSS - Harami Cross Pattern\n",
    "        talib_cdlharamicross = talib.CDLHARAMICROSS(\n",
    "            df.Open.values, df.High.values, df.Low.values, df.Close.values)\n",
    "        # CDLHIGHWAVE - High-Wave Candle\n",
    "        talib_cdlhighwave = talib.CDLHIGHWAVE(\n",
    "            df.Open.values, df.High.values, df.Low.values, df.Close.values)\n",
    "        # CDLHIKKAKE - Hikkake Pattern\n",
    "        talib_cdlhikkake = talib.CDLHIKKAKE(\n",
    "            df.Open.values, df.High.values, df.Low.values, df.Close.values)\n",
    "        # CDLHIKKAKEMOD - Modified Hikkake Pattern\n",
    "        talib_cdlhikkakemod = talib.CDLHIKKAKEMOD(\n",
    "            df.Open.values, df.High.values, df.Low.values, df.Close.values)\n",
    "\n",
    "        # CDLHOMINGPIGEON - Homing Pigeon\n",
    "        talib_cdlhomingpigeon = talib.CDLHOMINGPIGEON(\n",
    "            df.Open.values, df.High.values, df.Low.values, df.Close.values)\n",
    "        # CDLIDENTICAL3CROWS - Identical Three Crows\n",
    "        talib_cdlidentical3crows = talib.CDLIDENTICAL3CROWS(\n",
    "            df.Open.values, df.High.values, df.Low.values, df.Close.values)\n",
    "        # CDLINNECK - In-Neck Pattern\n",
    "        talib_cdlinneck = talib.CDLINNECK(\n",
    "            df.Open.values, df.High.values, df.Low.values, df.Close.values)\n",
    "        # CDLINVERTEDHAMMER - Inverted Hammer\n",
    "        talib_cdlinvertedhammer = talib.CDLINVERTEDHAMMER(\n",
    "            df.Open.values, df.High.values, df.Low.values, df.Close.values)\n",
    "        # CDLKICKING - Kicking\n",
    "        talib_cdlkicking = talib.CDLKICKING(\n",
    "            df.Open.values, df.High.values, df.Low.values, df.Close.values)\n",
    "        # CDLKICKINGBYLENGTH - Kicking - bull/bear determined by the longer marubozu\n",
    "        talib_cdlkickingbylength = talib.CDLKICKINGBYLENGTH(\n",
    "            df.Open.values, df.High.values, df.Low.values, df.Close.values)\n",
    "        # CDLLADDERBOTTOM - Ladder Bottom\n",
    "        talib_cdlladderbottom = talib.CDLLADDERBOTTOM(\n",
    "            df.Open.values, df.High.values, df.Low.values, df.Close.values)\n",
    "        # CDLLONGLEGGEDDOJI - Long Legged Doji\n",
    "        talib_cdllongleggeddoji = talib.CDLLONGLEGGEDDOJI(\n",
    "            df.Open.values, df.High.values, df.Low.values, df.Close.values)\n",
    "        # CDLLONGLINE - Long Line Candle\n",
    "        talib_cdllongline = talib.CDLLONGLINE(\n",
    "            df.Open.values, df.High.values, df.Low.values, df.Close.values)\n",
    "        # CDLMARUBOZU - Marubozu\n",
    "        talib_cdlmarubozu = talib.CDLMARUBOZU(\n",
    "            df.Open.values, df.High.values, df.Low.values, df.Close.values)\n",
    "        # CDLMATCHINGLOW - Matching Low\n",
    "        talib_cdlmatchinglow = talib.CDLMATCHINGLOW(\n",
    "            df.Open.values, df.High.values, df.Low.values, df.Close.values)\n",
    "\n",
    "        # CDLMATHOLD - Mat Hold\n",
    "        talib_cdlmathold = talib.CDLMATHOLD(\n",
    "            df.Open.values, df.High.values, df.Low.values, df.Close.values, penetration=0)\n",
    "        # CDLMORNINGDOJISTAR - Morning Doji Star\n",
    "        talib_cdlmorningdojistar = talib.CDLMORNINGDOJISTAR(\n",
    "            df.Open.values, df.High.values, df.Low.values, df.Close.values, penetration=0)\n",
    "        # CDLMORNINGSTAR - Morning Star\n",
    "        talib_cdlmorningstar = talib.CDLMORNINGSTAR(\n",
    "            df.Open.values, df.High.values, df.Low.values, df.Close.values, penetration=0)\n",
    "        # CDLONNECK - On-Neck Pattern\n",
    "        talib_cdlonneck = talib.CDLONNECK(\n",
    "            df.Open.values, df.High.values, df.Low.values, df.Close.values)\n",
    "        # CDLPIERCING - Piercing Pattern\n",
    "        talib_cdlpiercing = talib.CDLPIERCING(\n",
    "            df.Open.values, df.High.values, df.Low.values, df.Close.values)\n",
    "        # CDLRICKSHAWMAN - Rickshaw Man\n",
    "        talib_cdlrickshawman = talib.CDLRICKSHAWMAN(\n",
    "            df.Open.values, df.High.values, df.Low.values, df.Close.values)\n",
    "        # CDLRISEFALL3METHODS - Rising/Falling Three Methods\n",
    "        talib_cdlrisefall3methods = talib.CDLRISEFALL3METHODS(\n",
    "            df.Open.values, df.High.values, df.Low.values, df.Close.values)\n",
    "        # CDLSEPARATINGLINES - Separating Lines\n",
    "        talib_cdlseparatinglines = talib.CDLSEPARATINGLINES(\n",
    "            df.Open.values, df.High.values, df.Low.values, df.Close.values)\n",
    "        # CDLSHOOTINGSTAR - Shooting Star\n",
    "        talib_cdlshootingstar = talib.CDLSHOOTINGSTAR(\n",
    "            df.Open.values, df.High.values, df.Low.values, df.Close.values)\n",
    "        # CDLSHORTLINE - Short Line Candle\n",
    "        talib_cdlshortline = talib.CDLSHORTLINE(\n",
    "            df.Open.values, df.High.values, df.Low.values, df.Close.values)\n",
    "        # CDLSPINNINGTOP - Spinning Top\n",
    "        talib_cdlspinningtop = talib.CDLSPINNINGTOP(\n",
    "            df.Open.values, df.High.values, df.Low.values, df.Close.values)\n",
    "\n",
    "        # CDLSTALLEDPATTERN - Stalled Pattern\n",
    "        talib_cdlstalledpattern = talib.CDLSTALLEDPATTERN(\n",
    "            df.Open.values, df.High.values, df.Low.values, df.Close.values)\n",
    "        # CDLSTICKSANDWICH - Stick Sandwich\n",
    "        talib_cdlsticksandwich = talib.CDLSTICKSANDWICH(\n",
    "            df.Open.values, df.High.values, df.Low.values, df.Close.values)\n",
    "        # CDLTAKURI - Takuri (Dragonfly Doji with very long lower shadow)\n",
    "        talib_cdltakuru = talib.CDLTAKURI(\n",
    "            df.Open.values, df.High.values, df.Low.values, df.Close.values)\n",
    "        # CDLTASUKIGAP - Tasuki Gap\n",
    "        talib_cdltasukigap = talib.CDLTASUKIGAP(\n",
    "            df.Open.values, df.High.values, df.Low.values, df.Close.values)\n",
    "        # CDLTHRUSTING - Thrusting Pattern\n",
    "        talib_cdlthrusting = talib.CDLTHRUSTING(\n",
    "            df.Open.values, df.High.values, df.Low.values, df.Close.values)\n",
    "        # CDLTRISTAR - Tristar Pattern\n",
    "        talib_cdltristar = talib.CDLTRISTAR(\n",
    "            df.Open.values, df.High.values, df.Low.values, df.Close.values)\n",
    "        # CDLUNIQUE3RIVER - Unique 3 River\n",
    "        talib_cdlunique3river = talib.CDLUNIQUE3RIVER(\n",
    "            df.Open.values, df.High.values, df.Low.values, df.Close.values)\n",
    "        # CDLUPSIDEGAP2CROWS - Upside Gap Two Crows\n",
    "        talib_cdlupsidegap2crows = talib.CDLUPSIDEGAP2CROWS(\n",
    "            df.Open.values, df.High.values, df.Low.values, df.Close.values)\n",
    "        # CDLXSIDEGAP3METHODS - Upside/Downside Gap Three Methods\n",
    "        talib_cdlxsidegap3methods = talib.CDLXSIDEGAP3METHODS(\n",
    "            df.Open.values, df.High.values, df.Low.values, df.Close.values)\n",
    "\n",
    "        pattern_indicators_df = pd.DataFrame(\n",
    "            {'Date': df.Date.values,\n",
    "             'Ticker': df.Ticker,\n",
    "             # TA-Lib Pattern Recognition indicators\n",
    "             'cdl2crows': talib_cdl2crows,\n",
    "             'cdl3blackrows': talib_cdl3blackrows,\n",
    "             'cdl3inside': talib_cdl3inside,\n",
    "             'cdl3linestrike': talib_cdl3linestrike,\n",
    "             'cdl3outside': talib_cdl3outside,\n",
    "             'cdl3starsinsouth': talib_cdl3starsinsouth,\n",
    "             'cdl3whitesoldiers': talib_cdl3whitesoldiers,\n",
    "             'cdlabandonedbaby': talib_cdlabandonedbaby,\n",
    "             'cdladvancedblock': talib_cdladvancedblock,\n",
    "             'cdlbelthold': talib_cdlbelthold,\n",
    "             'cdlbreakaway': talib_cdlbreakaway,\n",
    "             'cdlclosingmarubozu': talib_cdlclosingmarubozu,\n",
    "             'cdlconcealbabyswall': talib_cdlconcealbabyswall,\n",
    "             'cdlcounterattack': talib_cdlcounterattack,\n",
    "             'cdldarkcloudcover': talib_cdldarkcloudcover,\n",
    "             'cdldoji': talib_cdldoji,\n",
    "             'cdldojistar': talib_cdldojistar,\n",
    "             'cdldragonflydoji': talib_cdldragonflydoji,\n",
    "             'cdlengulfing': talib_cdlengulfing,\n",
    "             'cdleveningdojistar': talib_cdleveningdojistar,\n",
    "             'cdleveningstar': talib_cdleveningstar,\n",
    "             'cdlgapsidesidewhite': talib_cdlgapsidesidewhite,\n",
    "             'cdlgravestonedoji': talib_cdlgravestonedoji,\n",
    "             'cdlhammer': talib_cdlhammer,\n",
    "             'cdlhangingman': talib_cdlhangingman,\n",
    "             'cdlharami': talib_cdlharami,\n",
    "             'cdlharamicross': talib_cdlharamicross,\n",
    "             'cdlhighwave': talib_cdlhighwave,\n",
    "             'cdlhikkake': talib_cdlhikkake,\n",
    "             'cdlhikkakemod': talib_cdlhikkakemod,\n",
    "             'cdlhomingpigeon': talib_cdlhomingpigeon,\n",
    "             'cdlidentical3crows': talib_cdlidentical3crows,\n",
    "             'cdlinneck': talib_cdlinneck,\n",
    "             'cdlinvertedhammer': talib_cdlinvertedhammer,\n",
    "             'cdlkicking': talib_cdlkicking,\n",
    "             'cdlkickingbylength': talib_cdlkickingbylength,\n",
    "             'cdlladderbottom': talib_cdlladderbottom,\n",
    "             'cdllongleggeddoji': talib_cdllongleggeddoji,\n",
    "             'cdllongline': talib_cdllongline,\n",
    "             'cdlmarubozu': talib_cdlmarubozu,\n",
    "             'cdlmatchinglow': talib_cdlmatchinglow,\n",
    "             'cdlmathold': talib_cdlmathold,\n",
    "             'cdlmorningdojistar': talib_cdlmorningdojistar,\n",
    "             'cdlmorningstar': talib_cdlmorningstar,\n",
    "             'cdlonneck': talib_cdlonneck,\n",
    "             'cdlpiercing': talib_cdlpiercing,\n",
    "             'cdlrickshawman': talib_cdlrickshawman,\n",
    "             'cdlrisefall3methods': talib_cdlrisefall3methods,\n",
    "             'cdlseparatinglines': talib_cdlseparatinglines,\n",
    "             'cdlshootingstar': talib_cdlshootingstar,\n",
    "             'cdlshortline': talib_cdlshortline,\n",
    "             'cdlspinningtop': talib_cdlspinningtop,\n",
    "             'cdlstalledpattern': talib_cdlstalledpattern,\n",
    "             'cdlsticksandwich': talib_cdlsticksandwich,\n",
    "             'cdltakuru': talib_cdltakuru,\n",
    "             'cdltasukigap': talib_cdltasukigap,\n",
    "             'cdlthrusting': talib_cdlthrusting,\n",
    "             'cdltristar': talib_cdltristar,\n",
    "             'cdlunique3river': talib_cdlunique3river,\n",
    "             'cdlupsidegap2crows': talib_cdlupsidegap2crows,\n",
    "             'cdlxsidegap3methods': talib_cdlxsidegap3methods\n",
    "             }\n",
    "        )\n",
    "\n",
    "        # Need a proper date type\n",
    "        pattern_indicators_df['Date'] = pd.to_datetime(\n",
    "            pattern_indicators_df['Date'])\n",
    "\n",
    "        return pattern_indicators_df\n",
    "## 6.4) Calculate Tech Indicators and Merge to the original dataframe\n",
    "# Volume needs to be float, not int\n",
    "stocks_df['Volume'] = stocks_df['Volume']*1.0\n",
    "# to resolve an error \"Exception: input array type is not double\"\n",
    "# https://stackoverflow.com/questions/51712269/how-to-run-ta-lib-on-multiple-columns-of-a-pandas-dataframe\n",
    "for f in ['Open','High','Low','Close', 'Volume', 'Adj Close']:\n",
    "  stocks_df.loc[:,f] = stocks_df.loc[:,f].astype('float64')\n",
    "#stocks_df.info()\n",
    "import pandas as pd\n",
    "# supress warnings\n",
    "pd.options.mode.chained_assignment = None  # default='warn'\n",
    "\n",
    "# adding Momentum / Pattern/ Volume features to all tickers - one by one\n",
    "merged_df_with_tech_ind = pd.DataFrame({'A' : []})\n",
    "\n",
    "current_ticker_data = None\n",
    "i=0\n",
    "for ticker in ALL_TICKERS:\n",
    "  i+=1\n",
    "  print(f'{i}/{len(ALL_TICKERS)} Current ticker is {ticker}')\n",
    "  current_ticker_data = stocks_df[stocks_df.Ticker.isin([ticker])]\n",
    "  # need to have same 'utc' time on both sides\n",
    "  # https://stackoverflow.com/questions/73964894/you-are-trying-to-merge-on-datetime64ns-utc-and-datetime64ns-columns-if-yo\n",
    "  current_ticker_data['Date']= pd.to_datetime(current_ticker_data['Date'], utc=True)\n",
    "\n",
    "  # 3 calls to get additional features\n",
    "  df_current_ticker_momentum_indicators = talib_get_momentum_indicators_for_one_ticker(current_ticker_data)\n",
    "  df_current_ticker_momentum_indicators[\"Date\"]= pd.to_datetime(df_current_ticker_momentum_indicators['Date'], utc=True)\n",
    "  # df_current_ticker_momentum_indicators.loc[:,\"Date\"]= pd.to_datetime(df_current_ticker_momentum_indicators['Date'], utc=True)\n",
    "\n",
    "  df_current_ticker_volume_indicators = talib_get_volume_volatility_cycle_price_indicators(current_ticker_data)\n",
    "  df_current_ticker_volume_indicators[\"Date\"]= pd.to_datetime(df_current_ticker_volume_indicators['Date'], utc=True)\n",
    "  # df_current_ticker_volume_indicators.loc[:,\"Date\"]= pd.to_datetime(df_current_ticker_volume_indicators['Date'], utc=True)\n",
    "\n",
    "  df_current_ticker_pattern_indicators = talib_get_pattern_recognition_indicators(current_ticker_data)\n",
    "  df_current_ticker_pattern_indicators[\"Date\"]= pd.to_datetime(df_current_ticker_pattern_indicators['Date'], utc=True)\n",
    "  # df_current_ticker_pattern_indicators.loc[:,\"Date\"]= pd.to_datetime(df_current_ticker_pattern_indicators['Date'], utc=True)\n",
    "\n",
    "  # merge to one df\n",
    "  m1 = pd.merge(current_ticker_data, df_current_ticker_momentum_indicators.reset_index(), how = 'left', on = [\"Date\",\"Ticker\"], validate = \"one_to_one\")\n",
    "  m2 = pd.merge(m1, df_current_ticker_volume_indicators.reset_index(), how = 'left', on = [\"Date\",\"Ticker\"], validate = \"one_to_one\")\n",
    "  m3 = pd.merge(m2, df_current_ticker_pattern_indicators.reset_index(), how = 'left', on = [\"Date\",\"Ticker\"], validate = \"one_to_one\")\n",
    "\n",
    "  if merged_df_with_tech_ind.empty:\n",
    "    merged_df_with_tech_ind = m3\n",
    "  else:\n",
    "    merged_df_with_tech_ind = pd.concat([merged_df_with_tech_ind,m3], ignore_index = False)\n",
    "#merged_df_with_tech_ind[merged_df_with_tech_ind.Date=='2024-04-01'].tail()\n",
    "#merged_df_with_tech_ind.info()\n",
    "# 7) [Code snippet 9] Merge All Together\n",
    "merged_df_with_tech_ind.head(1)\n",
    "merged_df_with_tech_ind.shape\n",
    "# make sure it is dateTime with no timezone\n",
    "merged_df_with_tech_ind['Date'] = pd.to_datetime(merged_df_with_tech_ind['Date']).dt.tz_localize(None)\n",
    "# merge with dax_daily_to_merge\n",
    "dax_daily_to_merge.tail(1)\n",
    "m2 = pd.merge(merged_df_with_tech_ind,\n",
    "              dax_daily_to_merge,\n",
    "              how='left',\n",
    "              left_on='Date',\n",
    "              right_index=True,\n",
    "              validate = \"many_to_one\"\n",
    "              )\n",
    "m2.tail(1)\n",
    "# check the same number of records, but columns increased\n",
    "m2.shape\n",
    "# merge with dax_daily_to_merge\n",
    "snp500_to_merge.tail(1)\n",
    "m3 = pd.merge(m2,\n",
    "              snp500_to_merge,\n",
    "              how='left',\n",
    "              left_on='Date',\n",
    "              right_index=True,\n",
    "              validate = \"many_to_one\"\n",
    "              )\n",
    "m3.tail(1)\n",
    "m3.shape\n",
    "m4 = pd.merge(m3,\n",
    "              dji_daily_to_merge,\n",
    "              how='left',\n",
    "              left_on='Date',\n",
    "              right_index=True,\n",
    "              validate = \"many_to_one\"\n",
    "              )\n",
    "m4.shape\n",
    "m4.tail(1)\n",
    "m5 = pd.merge(m4,\n",
    "              epi_etf_daily_to_merge,\n",
    "              how='left',\n",
    "              left_on='Date',\n",
    "              right_index=True,\n",
    "              validate = \"many_to_one\"\n",
    "              )\n",
    "m5.shape\n",
    "# define quarter as the first date of qtr\n",
    "m5['Quarter'] = m5['Date'].dt.to_period('Q').dt.to_timestamp()\n",
    "m5['Quarter']\n",
    "gdppot_to_merge.tail(1)\n",
    "m6 = pd.merge(m5,\n",
    "              gdppot_to_merge,\n",
    "              how='left',\n",
    "              left_on='Quarter',\n",
    "              right_index=True,\n",
    "              validate = \"many_to_one\"\n",
    "              )\n",
    "m6.tail(2)\n",
    "m6.shape\n",
    "m6['Month'] = m6['Date'].dt.to_period('M').dt.to_timestamp()\n",
    "m6['Month']\n",
    "cpilfesl_to_merge.tail(1)\n",
    "m7 = pd.merge(m6,\n",
    "              cpilfesl_to_merge,\n",
    "              how='left',\n",
    "              left_on='Month',\n",
    "              right_index=True,\n",
    "              validate = \"many_to_one\"\n",
    "              )\n",
    "# PROBLEM! Last month is not defined\n",
    "m7.tail(1)\n",
    "fields_to_fill = ['cpi_core_yoy',\t'cpi_core_mom']\n",
    "# Fill missing values in selected fields with the last defined value\n",
    "for field in fields_to_fill:\n",
    "    m7[field] = m7[field].fillna(method='ffill')\n",
    "\n",
    "m7.tail(1)\n",
    "fedfunds.tail(1)\n",
    "m8 = pd.merge(m7,\n",
    "              fedfunds,\n",
    "              how='left',\n",
    "              left_on='Month',\n",
    "              right_index=True,\n",
    "              validate = \"many_to_one\"\n",
    "              )\n",
    "m8.tail(1)\n",
    "fields_to_fill = ['FEDFUNDS']\n",
    "# Fill missing values in selected fields with the last defined value\n",
    "for field in fields_to_fill:\n",
    "    m8[field] = m8[field].fillna(method='ffill')\n",
    "\n",
    "m8.tail(1)\n",
    "dgs1.tail(1)\n",
    "m9 = pd.merge(m8,\n",
    "              dgs1,\n",
    "              how='left',\n",
    "              left_on='Date',\n",
    "              right_index=True,\n",
    "              validate = \"many_to_one\"\n",
    "              )\n",
    "# fix last day later\n",
    "m9.tail(2)\n",
    "m10 = pd.merge(m9,\n",
    "              dgs5,\n",
    "              how='left',\n",
    "              left_on='Date',\n",
    "              right_index=True,\n",
    "              validate = \"many_to_one\"\n",
    "              )\n",
    "# fix last day later\n",
    "m10.tail(2)\n",
    "m11 = pd.merge(m10,\n",
    "              dgs10,\n",
    "              how='left',\n",
    "              left_on='Date',\n",
    "              right_index=True,\n",
    "              validate = \"many_to_one\"\n",
    "              )\n",
    "m11.tail(2)\n",
    "vix_to_merge\n",
    "m12 = pd.merge(m11,\n",
    "              vix_to_merge,\n",
    "              how='left',\n",
    "              left_on='Date',\n",
    "              right_index=True,\n",
    "              validate = \"many_to_one\"\n",
    "              )\n",
    "m12.tail(2)\n",
    "gold_to_merge.tail(2)\n",
    "m13 = pd.merge(m12,\n",
    "              gold_to_merge,\n",
    "              how='left',\n",
    "              left_on='Date',\n",
    "              right_index=True,\n",
    "              validate = \"many_to_one\"\n",
    "              )\n",
    "m13.tail(2)\n",
    "m14 = pd.merge(m13,\n",
    "              crude_oil_to_merge,\n",
    "              how='left',\n",
    "              left_on='Date',\n",
    "              right_index=True,\n",
    "              validate = \"many_to_one\"\n",
    "              )\n",
    "m14.tail(2)\n",
    "m15 = pd.merge(m14,\n",
    "              brent_oil_to_merge,\n",
    "              how='left',\n",
    "              left_on='Date',\n",
    "              right_index=True,\n",
    "              validate = \"many_to_one\"\n",
    "              )\n",
    "m15.tail(2)\n",
    "m16 = pd.merge(m15,\n",
    "              btc_usd_to_merge,\n",
    "              how='left',\n",
    "              left_on='Date',\n",
    "              right_index=True,\n",
    "              validate = \"many_to_one\"\n",
    "              )\n",
    "m16.tail(2)\n",
    "fields_to_fill = ['gdppot_us_yoy','gdppot_us_qoq','cpi_core_yoy','cpi_core_mom','FEDFUNDS','DGS1','DGS5','DGS10']\n",
    "# Fill missing values in selected fields with the last defined value\n",
    "for field in fields_to_fill:\n",
    "    m16[field] = m16[field].fillna(method='ffill')\n",
    "m16.tail(2)\n",
    "m16.info()\n",
    "date = m16.Date.max()\n",
    "date_str = date.strftime('%Y_%m_%d')\n",
    "print(date_str)\n",
    "m16.to_parquet(f'stocks_df_combined_{date_str}.parquet.brotli',\n",
    "              compression='brotli')"
   ]
  },
  {
   "cell_type": "code",
   "execution_count": 27,
   "metadata": {},
   "outputs": [
    {
     "data": {
      "text/plain": [
       "1.0"
      ]
     },
     "execution_count": 27,
     "metadata": {},
     "output_type": "execute_result"
    }
   ],
   "source": [
    "q4_df = m16[(m16['Year']>=2014) & (m16['Year']<=2023) & (m16['Weekday']==4) & (m16['cci']>200)]\n",
    "q4_df['cci_gross_profit'] = q4_df['growth_future_5d'] - 1\n",
    "round(q4_df['cci_gross_profit'].sum(),0)"
   ]
  },
  {
   "cell_type": "markdown",
   "metadata": {},
   "source": [
    "### [EXPLORATORY] Question 5: Finding Your Strategy for IPOs\n",
    "\n",
    "You've seen in the first questions that the median and average investments are negative in IPOs, and you can't blindly invest in all deals.\n",
    "\n",
    "How would you correct/refine the approach? Briefly describe the steps and the data you'll try to get (it should be generally feasible to do it from public sources - no access to internal data of companies)?\n",
    "\n",
    "E.g. (some ideas) Do you want to focus on the specific vertical? Do you want to build a smart comparison vs. existing stocks on the market? Or you just will want to get some features (which features?) like total number of people in a company to find a segment of \"successful\" IPOs?"
   ]
  },
  {
   "cell_type": "markdown",
   "metadata": {},
   "source": [
    "The idea that immediately came to my mind is similar to the first idea mentioned---I would try to do a similar analysis on different cuts of the data, specifically by IPO industry. For example, I've heard many IPOs in the 2010s tried to sell themselves as \"technology\" companies because technology stocks seemed to do well during this era---it would be interesting to see if the data confirms this, and to see the returns for other industries."
   ]
  },
  {
   "cell_type": "markdown",
   "metadata": {},
   "source": [
    "## Submitting the solutions\n",
    "\n",
    "Form for submitting: https://courses.datatalks.club/sma-zoomcamp-2024/homework/hw02"
   ]
  }
 ],
 "metadata": {
  "kernelspec": {
   "display_name": "stocks-zoomcamp",
   "language": "python",
   "name": "python3"
  },
  "language_info": {
   "codemirror_mode": {
    "name": "ipython",
    "version": 3
   },
   "file_extension": ".py",
   "mimetype": "text/x-python",
   "name": "python",
   "nbconvert_exporter": "python",
   "pygments_lexer": "ipython3",
   "version": "3.10.14"
  }
 },
 "nbformat": 4,
 "nbformat_minor": 2
}
